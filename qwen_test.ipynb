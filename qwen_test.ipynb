{
 "cells": [
  {
   "cell_type": "code",
   "execution_count": 1,
   "id": "f9f524b3",
   "metadata": {},
   "outputs": [],
   "source": [
    "import requests\n",
    "import json"
   ]
  },
  {
   "cell_type": "code",
   "execution_count": 2,
   "id": "abdf186c",
   "metadata": {},
   "outputs": [],
   "source": [
    "openRouter_API=\"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\""
   ]
  },
  {
   "cell_type": "code",
   "execution_count": 3,
   "id": "98ac41ba",
   "metadata": {},
   "outputs": [],
   "source": [
    "response = requests.post(\n",
    "  url=\"https://openrouter.ai/api/v1/chat/completions\",\n",
    "  headers={\n",
    "    \"Authorization\": f\"Bearer {openRouter_API}\",\n",
    "    \"Content-Type\": \"application/json\",\n",
    "    # \"HTTP-Referer\": \"<YOUR_SITE_URL>\", # Optional. Site URL for rankings on openrouter.ai.\n",
    "    # \"X-Title\": \"<YOUR_SITE_NAME>\", # Optional. Site title for rankings on openrouter.ai.\n",
    "  },\n",
    "  data=json.dumps({\n",
    "    \"model\": \"qwen/qwen3-235b-a22b:free\",\n",
    "    \"messages\": [\n",
    "      {\n",
    "        \"role\": \"user\",\n",
    "        \"content\": \"What is the meaning of life?\"\n",
    "      }\n",
    "    ],\n",
    "    \n",
    "  })\n",
    ")"
   ]
  },
  {
   "cell_type": "code",
   "execution_count": 28,
   "id": "69b54025",
   "metadata": {},
   "outputs": [
    {
     "data": {
      "text/plain": [
       "'The question \"What is the meaning of life?\" is one of the most profound and enduring inquiries in human history. It transcends disciplines and cultures, and answers vary widely depending on philosophical, religious, scientific, and personal perspectives. Here\\'s a synthesis of some key viewpoints:\\n\\n### 1. **Philosophical Perspectives**  \\n- **Existentialism**: Philosophers like Jean-Paul Sartre and Viktor Frankl argue that life has no inherent meaning; it is up to individuals to create their own purpose through choices, actions, and embracing freedom. Frankl, a Holocaust survivor, proposed that meaning arises from seeking it actively, even amid suffering (*logotherapy*).  \\n- **Nihilism**: This view, espoused by thinkers like Friedrich Nietzsche, suggests life lacks intrinsic meaning, and attempts to ascribe purpose are illusions. Nietzsche, however, urged people to rise above existential despair (*nihil*) by crafting their own ideals.  \\n- **Absurdism**: Albert Camus proposed that humans seek inherent meaning in a meaningless universe, leading to existential absurdity. The solution is defiance—embracing life passionately *despite* its lack of objective answers.  \\n\\n### 2. **Religious/Spiritual Views**  \\n- **Theistic Beliefs**: Many religions tie life\\'s purpose to divine will, such as serving God (e.g., Christianity, Islam) or aligning with cosmic harmony (e.g., Taoism, Hinduism). Buddhism focuses on ending suffering through enlightenment and detachment.  \\n- **Pantheism/Panentheism**: Views life as part of a divine universe, encouraging connection to a greater whole (e.g., nature spirituality).  \\n- **Afterlife and Salvation**: Some traditions define life\\'s meaning by preparing for an eternal afterlife or spiritual liberation.  \\n\\n### 3. **Scientific and Biological Frameworks**  \\n- **Evolutionary Biology**: Life’s \"purpose\" could be framed as survival and reproduction, driven by natural selection. Human consciousness, however, allows us to transcend these instincts and seek higher meaning.  \\n- **Cosmic Curiosity**: From a scientific standpoint, meaning might lie in understanding the universe, exploring consciousness, or becoming a self-aware part of cosmic processes.  \\n\\n### 4. **Secular and Personal Answers**  \\n- **Humanism**: Focused on human flourishing, compassion, and creating meaning through relationships, personal growth, and contributing to a better world.  \\n- **Happiness and Experience**: For some, life’s meaning involves pursuing joy, love, creativity, or meaningful experiences.  \\n- **Legacy and Contribution**: Leaving a positive impact on others, society, or future generations—a view echoed by thinkers like Albert Schweitzer (*\"reverence for life\"*).  \\n\\n### 5. **Cultural and Individual Variations**  \\nCultures shape ideas of purpose, from collectivist values (family/community) to existential art and music (e.g., punk philosophy, Nordic \"hygge\"). Many find meaning in roles as parents, creators, or advocates for justice.  \\n\\n### 6. **The \"42\" Reference (Pop Culture)**  \\nDouglas Adams’ satirical *The Hitchhiker’s Guide to the Galaxy* humorously argues that the answer (42) is meaningless without understanding the question—a reminder that the pursuit of meaning itself may be more significant than any fixed \"answer.\"  \\n\\n### Conclusion  \\nThe meaning of life is neither universally singular nor objectively defined. It is a question that invites exploration—of philosophy, faith, science, and personal values. For some, the act of seeking meaning *is* the point. Ultimately, your answer may emerge through lived experiences, relationships, curiosity, or the courage to forge your own path in a vast, mysterious universe.'"
      ]
     },
     "execution_count": 28,
     "metadata": {},
     "output_type": "execute_result"
    }
   ],
   "source": [
    "data = json.loads(response.text)\n",
    "data[\"choices\"][0][\"message\"][\"content\"]"
   ]
  },
  {
   "cell_type": "code",
   "execution_count": null,
   "id": "fe45549f",
   "metadata": {},
   "outputs": [],
   "source": []
  }
 ],
 "metadata": {
  "kernelspec": {
   "display_name": "Python 3",
   "language": "python",
   "name": "python3"
  },
  "language_info": {
   "codemirror_mode": {
    "name": "ipython",
    "version": 3
   },
   "file_extension": ".py",
   "mimetype": "text/x-python",
   "name": "python",
   "nbconvert_exporter": "python",
   "pygments_lexer": "ipython3",
   "version": "3.13.9"
  }
 },
 "nbformat": 4,
 "nbformat_minor": 5
}
