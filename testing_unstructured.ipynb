{
 "cells": [
  {
   "cell_type": "code",
   "execution_count": 1,
   "id": "898b8b31",
   "metadata": {},
   "outputs": [],
   "source": [
    "from unstructured import partition\n",
    "from unstructured.partition.html import partition_html\n",
    "from unstructured.chunking.title import chunk_by_title\n",
    "import os\n"
   ]
  },
  {
   "cell_type": "code",
   "execution_count": null,
   "id": "24ccd65b",
   "metadata": {},
   "outputs": [],
   "source": [
    "# Test file\n",
    "saved_file = \"raw_html/Weapons.html\"\n"
   ]
  },
  {
   "cell_type": "code",
   "execution_count": null,
   "id": "87525261",
   "metadata": {},
   "outputs": [],
   "source": [
    "def partition_saved_html_with_strategy(html_file_path):\n",
    "\n",
    "    try:\n",
    "        # Check if file exists\n",
    "        if not os.path.exists(html_file_path):\n",
    "            print(f\"Error: File {html_file_path} does not exist\")\n",
    "            return None\n",
    "        \n",
    "        # Partition the HTML file with section-based chunking\n",
    "        elements = partition_html(\n",
    "            filename=html_file_path,\n",
    "            infer_table_structure=True,\n",
    "            strategy=\"hi_res\",\n",
    "            chunking_strategy=\"by_title\",\n",
    "            include_page_breaks=True,\n",
    "            # Section-based chunking parameters\n",
    "            max_characters=10000,  # Adjust based on your needs\n",
    "            combine_text_under_n_chars= 100,  # Combine small text fragments\n",
    "            )\n",
    "        \n",
    "        # print(f\"Successfully partitioned {html_file_path}\")\n",
    "        # print(f\"Found {len(elements)} elements\")\n",
    "        \n",
    "        return elements\n",
    "        \n",
    "    except Exception as e:\n",
    "        print(f\"Error partitioning HTML file: {e}\")\n",
    "        return None"
   ]
  },
  {
   "cell_type": "code",
   "execution_count": 52,
   "id": "6535c268",
   "metadata": {},
   "outputs": [
    {
     "name": "stdout",
     "output_type": "stream",
     "text": [
      "Successfully partitioned raw_html/Weapons.html\n",
      "Found 15 elements\n"
     ]
    }
   ],
   "source": [
    "element = partition_saved_html_with_strategy(saved_file)"
   ]
  },
  {
   "cell_type": "code",
   "execution_count": 53,
   "id": "654fc45a",
   "metadata": {},
   "outputs": [
    {
     "data": {
      "text/plain": [
       "[<unstructured.documents.elements.CompositeElement at 0x1c168a28fd0>,\n",
       " <unstructured.documents.elements.CompositeElement at 0x1c168a28310>,\n",
       " <unstructured.documents.elements.CompositeElement at 0x1c168a29850>,\n",
       " <unstructured.documents.elements.CompositeElement at 0x1c168a2a190>,\n",
       " <unstructured.documents.elements.CompositeElement at 0x1c168a29d90>,\n",
       " <unstructured.documents.elements.CompositeElement at 0x1c168a2a3d0>,\n",
       " <unstructured.documents.elements.CompositeElement at 0x1c168a2a510>,\n",
       " <unstructured.documents.elements.CompositeElement at 0x1c168a2a7d0>,\n",
       " <unstructured.documents.elements.CompositeElement at 0x1c168a2a910>,\n",
       " <unstructured.documents.elements.CompositeElement at 0x1c168a2ab50>,\n",
       " <unstructured.documents.elements.CompositeElement at 0x1c168a2ae90>,\n",
       " <unstructured.documents.elements.CompositeElement at 0x1c168a2af90>,\n",
       " <unstructured.documents.elements.CompositeElement at 0x1c168a2b210>,\n",
       " <unstructured.documents.elements.CompositeElement at 0x1c168a2b410>,\n",
       " <unstructured.documents.elements.CompositeElement at 0x1c168a2b490>]"
      ]
     },
     "execution_count": 53,
     "metadata": {},
     "output_type": "execute_result"
    }
   ],
   "source": [
    "element"
   ]
  },
  {
   "cell_type": "code",
   "execution_count": 77,
   "id": "7274988e",
   "metadata": {},
   "outputs": [],
   "source": [
    "def partition_files(files):\n",
    "    texts = []\n",
    "    tables = []\n",
    "\n",
    "    for file in files:\n",
    "        print (file)\n",
    "        elements = partition_saved_html_with_strategy(\"raw_html/\" + file)\n",
    "\n",
    "        for i in elements:\n",
    "            page_title = file.split(\".\")[0]\n",
    "            section_title = page_title\n",
    "\n",
    "            if \"CompositeElement\" in str(type(i)):\n",
    "                for j in i.metadata.orig_elements:\n",
    "                    if \"Title\" in str(type(j)):\n",
    "                        section_title = j.text\n",
    "                    elif \"Table\" in str(type(j)):\n",
    "                        table={}\n",
    "                        table[\"page_title\"] = page_title\n",
    "                        table[\"section_title\"] = section_title\n",
    "                        table[\"table\"] = j\n",
    "                        tables.append(table)\n",
    "                    else:\n",
    "                        text={}\n",
    "                        text[\"page_title\"] = page_title\n",
    "                        text[\"section_title\"] = section_title\n",
    "                        text[\"text\"] = j\n",
    "                        texts.append(text)\n",
    "                        \n",
    "            elif \"Table\" in str(type(i)):\n",
    "                table={}\n",
    "                table[\"page_title\"] = page_title\n",
    "                table[\"section_title\"] = section_title\n",
    "                table[\"table\"] = i\n",
    "                tables.append(table)\n",
    "            else:\n",
    "                text={}\n",
    "                text[\"page_title\"] = page_title\n",
    "                text[\"section_title\"] = section_title\n",
    "                text[\"text\"] = i\n",
    "                texts.append(text)\n",
    "    return texts, tables\n",
    "\n"
   ]
  },
  {
   "cell_type": "code",
   "execution_count": 78,
   "id": "7211457c",
   "metadata": {},
   "outputs": [],
   "source": [
    "from pathlib import Path\n",
    "\n",
    "raw_html_path = Path('raw_html')\n",
    "file_names = [f.name for f in raw_html_path.iterdir() if f.is_file()]\n",
    "file_names = file_names[100:110]"
   ]
  },
  {
   "cell_type": "code",
   "execution_count": 80,
   "id": "42518139",
   "metadata": {},
   "outputs": [
    {
     "name": "stdout",
     "output_type": "stream",
     "text": [
      "Anchor.html\n",
      "Successfully partitioned raw_html/Anchor.html\n",
      "Found 6 elements\n",
      "Anchor_(Furniture).html\n",
      "Successfully partitioned raw_html/Anchor_(Furniture).html\n",
      "Found 6 elements\n",
      "Anchovy.html\n",
      "Successfully partitioned raw_html/Anchovy.html\n",
      "Found 9 elements\n",
      "Ancient_Doll.html\n",
      "Successfully partitioned raw_html/Ancient_Doll.html\n",
      "Found 8 elements\n",
      "Ancient_Drum.html\n",
      "Successfully partitioned raw_html/Ancient_Drum.html\n",
      "Found 6 elements\n",
      "Ancient_Fruit.html\n",
      "Successfully partitioned raw_html/Ancient_Fruit.html\n",
      "Found 9 elements\n",
      "Ancient_Fruit_Seeds.html\n",
      "Successfully partitioned raw_html/Ancient_Fruit_Seeds.html\n",
      "Found 5 elements\n",
      "Ancient_Seed.html\n",
      "Successfully partitioned raw_html/Ancient_Seed.html\n",
      "Found 9 elements\n",
      "Ancient_Seeds.html\n",
      "Successfully partitioned raw_html/Ancient_Seeds.html\n",
      "Found 5 elements\n",
      "Ancient_Sword.html\n",
      "Successfully partitioned raw_html/Ancient_Sword.html\n",
      "Found 8 elements\n"
     ]
    }
   ],
   "source": [
    "texts, tables = partition_files(file_names)"
   ]
  },
  {
   "cell_type": "code",
   "execution_count": 81,
   "id": "103f8efd",
   "metadata": {},
   "outputs": [
    {
     "data": {
      "text/plain": [
       "[{'page_title': 'Anchor',\n",
       "  'section_title': 'Anchor',\n",
       "  'table': <unstructured.documents.elements.Table at 0x1c168b33f50>},\n",
       " {'page_title': 'Anchor',\n",
       "  'section_title': 'Gifting',\n",
       "  'table': <unstructured.documents.elements.Table at 0x1c168bfebd0>},\n",
       " {'page_title': 'Anchor',\n",
       "  'section_title': 'History',\n",
       "  'table': <unstructured.documents.elements.Table at 0x1c168bf3110>},\n",
       " {'page_title': 'Anchor_(Furniture)',\n",
       "  'section_title': 'Anchor (furniture)',\n",
       "  'table': <unstructured.documents.elements.Table at 0x1c168bf1310>},\n",
       " {'page_title': 'Anchor_(Furniture)',\n",
       "  'section_title': 'Anchor_(Furniture)',\n",
       "  'table': <unstructured.documents.elements.TableChunk at 0x1c168b31850>},\n",
       " {'page_title': 'Anchor_(Furniture)',\n",
       "  'section_title': 'Anchor_(Furniture)',\n",
       "  'table': <unstructured.documents.elements.TableChunk at 0x1c168ac4250>},\n",
       " {'page_title': 'Anchovy',\n",
       "  'section_title': 'Anchovy',\n",
       "  'table': <unstructured.documents.elements.Table at 0x1c168c1ff90>},\n",
       " {'page_title': 'Anchovy',\n",
       "  'section_title': 'Gifting',\n",
       "  'table': <unstructured.documents.elements.Table at 0x1c168b33e50>},\n",
       " {'page_title': 'Anchovy',\n",
       "  'section_title': 'Recipes',\n",
       "  'table': <unstructured.documents.elements.Table at 0x1c168c1df90>},\n",
       " {'page_title': 'Anchovy',\n",
       "  'section_title': 'Fish Pond',\n",
       "  'table': <unstructured.documents.elements.Table at 0x1c168bfe010>},\n",
       " {'page_title': 'Anchovy',\n",
       "  'section_title': 'Fish Pond',\n",
       "  'table': <unstructured.documents.elements.Table at 0x1c168bf1690>},\n",
       " {'page_title': 'Anchovy',\n",
       "  'section_title': 'History',\n",
       "  'table': <unstructured.documents.elements.Table at 0x1c168c22e50>},\n",
       " {'page_title': 'Ancient_Doll',\n",
       "  'section_title': 'Ancient Doll',\n",
       "  'table': <unstructured.documents.elements.Table at 0x1c168c0ee10>},\n",
       " {'page_title': 'Ancient_Doll',\n",
       "  'section_title': 'Gifting',\n",
       "  'table': <unstructured.documents.elements.Table at 0x1c168c061d0>},\n",
       " {'page_title': 'Ancient_Doll',\n",
       "  'section_title': 'History',\n",
       "  'table': <unstructured.documents.elements.Table at 0x1c168c1e650>},\n",
       " {'page_title': 'Ancient_Drum',\n",
       "  'section_title': 'Ancient Drum',\n",
       "  'table': <unstructured.documents.elements.Table at 0x1c168c0d1d0>},\n",
       " {'page_title': 'Ancient_Drum',\n",
       "  'section_title': 'Gifting',\n",
       "  'table': <unstructured.documents.elements.Table at 0x1c168c2b790>},\n",
       " {'page_title': 'Ancient_Drum',\n",
       "  'section_title': 'History',\n",
       "  'table': <unstructured.documents.elements.Table at 0x1c168c34d10>},\n",
       " {'page_title': 'Ancient_Fruit',\n",
       "  'section_title': 'Ancient Fruit',\n",
       "  'table': <unstructured.documents.elements.Table at 0x1c168c2ab10>},\n",
       " {'page_title': 'Ancient_Fruit',\n",
       "  'section_title': 'Stages',\n",
       "  'table': <unstructured.documents.elements.Table at 0x1c168c0c810>},\n",
       " {'page_title': 'Ancient_Fruit',\n",
       "  'section_title': 'Crop Growth Calendar',\n",
       "  'table': <unstructured.documents.elements.Table at 0x1c168c22710>},\n",
       " {'page_title': 'Ancient_Fruit',\n",
       "  'section_title': 'Crop Growth Calendar',\n",
       "  'table': <unstructured.documents.elements.Table at 0x1c168c0d610>},\n",
       " {'page_title': 'Ancient_Fruit',\n",
       "  'section_title': 'Gifting',\n",
       "  'table': <unstructured.documents.elements.Table at 0x1c168c0fd90>},\n",
       " {'page_title': 'Ancient_Fruit',\n",
       "  'section_title': 'History',\n",
       "  'table': <unstructured.documents.elements.Table at 0x1c168c3a610>},\n",
       " {'page_title': 'Ancient_Fruit_Seeds',\n",
       "  'section_title': 'Ancient Seeds',\n",
       "  'table': <unstructured.documents.elements.Table at 0x1c168c3ba10>},\n",
       " {'page_title': 'Ancient_Fruit_Seeds',\n",
       "  'section_title': 'Stages',\n",
       "  'table': <unstructured.documents.elements.Table at 0x1c168c39dd0>},\n",
       " {'page_title': 'Ancient_Fruit_Seeds',\n",
       "  'section_title': 'Gifting',\n",
       "  'table': <unstructured.documents.elements.Table at 0x1c168c39190>},\n",
       " {'page_title': 'Ancient_Fruit_Seeds',\n",
       "  'section_title': 'History',\n",
       "  'table': <unstructured.documents.elements.Table at 0x1c168c29c50>},\n",
       " {'page_title': 'Ancient_Seed',\n",
       "  'section_title': 'Ancient Seed',\n",
       "  'table': <unstructured.documents.elements.Table at 0x1c168c37c50>},\n",
       " {'page_title': 'Ancient_Seed',\n",
       "  'section_title': 'Gifting',\n",
       "  'table': <unstructured.documents.elements.Table at 0x1c168c52a10>},\n",
       " {'page_title': 'Ancient_Seed',\n",
       "  'section_title': 'Recipes',\n",
       "  'table': <unstructured.documents.elements.Table at 0x1c168c53210>},\n",
       " {'page_title': 'Ancient_Seed',\n",
       "  'section_title': 'History',\n",
       "  'table': <unstructured.documents.elements.Table at 0x1c168c4c710>},\n",
       " {'page_title': 'Ancient_Seeds',\n",
       "  'section_title': 'Ancient Seeds',\n",
       "  'table': <unstructured.documents.elements.Table at 0x1c168c455d0>},\n",
       " {'page_title': 'Ancient_Seeds',\n",
       "  'section_title': 'Stages',\n",
       "  'table': <unstructured.documents.elements.Table at 0x1c168c3bfd0>},\n",
       " {'page_title': 'Ancient_Seeds',\n",
       "  'section_title': 'Gifting',\n",
       "  'table': <unstructured.documents.elements.Table at 0x1c168c38e50>},\n",
       " {'page_title': 'Ancient_Seeds',\n",
       "  'section_title': 'History',\n",
       "  'table': <unstructured.documents.elements.Table at 0x1c168c4c390>},\n",
       " {'page_title': 'Ancient_Sword',\n",
       "  'section_title': 'Ancient Sword',\n",
       "  'table': <unstructured.documents.elements.Table at 0x1c168c347d0>},\n",
       " {'page_title': 'Ancient_Sword',\n",
       "  'section_title': 'Gifting',\n",
       "  'table': <unstructured.documents.elements.Table at 0x1c168c4fb90>},\n",
       " {'page_title': 'Ancient_Sword',\n",
       "  'section_title': 'History',\n",
       "  'table': <unstructured.documents.elements.Table at 0x1c168c47450>}]"
      ]
     },
     "execution_count": 81,
     "metadata": {},
     "output_type": "execute_result"
    }
   ],
   "source": [
    "tables"
   ]
  },
  {
   "cell_type": "code",
   "execution_count": 27,
   "id": "3e97a49a",
   "metadata": {},
   "outputs": [
    {
     "data": {
      "text/plain": [
       "{'type': 'NarrativeText',\n",
       " 'element_id': '07b64c01-cb27-493b-908e-2280e8e33ba7',\n",
       " 'text': 'Clubs are heavy weapons that tend to be slower than swords and daggers but with a wide swing. Their secondary attack causes the player to slam the ground in front of them, causing an area-of-effect attack in a radius around the player that has strong knockback. Damage dealt by this attack will never be a critical hit.[1]',\n",
       " 'metadata': {'link_texts': ['[1]'],\n",
       "  'link_urls': ['#cite_note-hammercrit-1'],\n",
       "  'last_modified': '2025-10-10T20:33:16'}}"
      ]
     },
     "execution_count": 27,
     "metadata": {},
     "output_type": "execute_result"
    }
   ],
   "source": [
    "element[3].metadata.orig_elements[1].to_dict()"
   ]
  }
 ],
 "metadata": {
  "kernelspec": {
   "display_name": "Python 3",
   "language": "python",
   "name": "python3"
  },
  "language_info": {
   "codemirror_mode": {
    "name": "ipython",
    "version": 3
   },
   "file_extension": ".py",
   "mimetype": "text/x-python",
   "name": "python",
   "nbconvert_exporter": "python",
   "pygments_lexer": "ipython3",
   "version": "3.11.9"
  }
 },
 "nbformat": 4,
 "nbformat_minor": 5
}
