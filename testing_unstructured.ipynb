{
 "cells": [
  {
   "cell_type": "code",
   "execution_count": 1,
   "id": "898b8b31",
   "metadata": {},
   "outputs": [],
   "source": [
    "# from unstructured import partition\n",
    "from unstructured.partition.html import partition_html\n",
    "# from unstructured.chunking.title import chunk_by_title\n",
    "import os\n",
    "from tqdm import tqdm\n",
    "import json\n",
    "import requests\n",
    "import re\n"
   ]
  },
  {
   "cell_type": "code",
   "execution_count": 2,
   "id": "87525261",
   "metadata": {},
   "outputs": [],
   "source": [
    "def partition_saved_html_with_strategy(html_file_path):\n",
    "\n",
    "    try:\n",
    "        # Check if file exists\n",
    "        if not os.path.exists(html_file_path):\n",
    "            print(f\"Error: File {html_file_path} does not exist\")\n",
    "            return None\n",
    "        \n",
    "        # Partition the HTML file with section-based chunking\n",
    "        elements = partition_html(\n",
    "            filename=html_file_path,\n",
    "            infer_table_structure=True,\n",
    "            strategy=\"hi_res\",\n",
    "            chunking_strategy=\"by_title\",\n",
    "            include_page_breaks=True,\n",
    "            # Section-based chunking parameters\n",
    "            max_characters=10000,  # Adjust based on your needs\n",
    "            combine_text_under_n_chars= 100,  # Combine small text fragments\n",
    "            )\n",
    "        \n",
    "        # print(f\"Successfully partitioned {html_file_path}\")\n",
    "        # print(f\"Found {len(elements)} elements\")\n",
    "        \n",
    "        return elements\n",
    "        \n",
    "    except Exception as e:\n",
    "        print(f\"Error partitioning HTML file: {e}\")\n",
    "        return None"
   ]
  },
  {
   "cell_type": "code",
   "execution_count": 3,
   "id": "88211aab",
   "metadata": {},
   "outputs": [],
   "source": [
    "EXCLUDED_SECTIONS = [\n",
    "    \"references\", \"reference\", \"navigation\", \"navigation menu\", \"history\",\n",
    "    \"see also\", \"notes\", \"external links\", \"trivia\", \"gallery\",\n",
    "    \"quotes\", \"bugs\", \"changelog\", \"patch history\", \"credits\",\n",
    "    \"footnotes\", \"footer\", \"acknowledgements\", \"disclaimer\"\n",
    "]\n",
    "\n",
    "def should_exclude_section(section_title: str) -> bool:\n",
    "    if not section_title:\n",
    "        return False\n",
    "    normalized = section_title.strip().lower()\n",
    "    return any(excluded in normalized for excluded in EXCLUDED_SECTIONS)"
   ]
  },
  {
   "cell_type": "code",
   "execution_count": 4,
   "id": "7274988e",
   "metadata": {},
   "outputs": [],
   "source": [
    "def partition_files(files):\n",
    "    texts = []\n",
    "    tables = []\n",
    "\n",
    "    for file in tqdm(files):\n",
    "        # print (file)\n",
    "        elements = partition_saved_html_with_strategy(\"raw_html/\" + file)\n",
    "\n",
    "        if not elements:\n",
    "            continue\n",
    "\n",
    "        for i in elements:\n",
    "            page_title = file.split(\".\")[0]\n",
    "            section_title = page_title\n",
    "\n",
    "            if \"CompositeElement\" in str(type(i)):\n",
    "                for j in i.metadata.orig_elements:\n",
    "                    if \"Title\" in str(type(j)):\n",
    "                        section_title = j.text.strip()\n",
    "                    elif \"Table\" in str(type(j)):\n",
    "                        if not should_exclude_section(section_title):\n",
    "                            tables.append({\n",
    "                                \"page_title\": page_title,\n",
    "                                \"section_title\": section_title,\n",
    "                                \"table\": j,\n",
    "                            })\n",
    "                    else:\n",
    "                        if not should_exclude_section(section_title):\n",
    "                            text_content = j.text.strip() if hasattr(j, \"text\") else str(j).strip()\n",
    "                            if len(text_content) >= 100:\n",
    "                                texts.append({\n",
    "                                    \"page_title\": page_title,\n",
    "                                    \"section_title\": section_title,\n",
    "                                    \"text\": text_content,\n",
    "                                })\n",
    "\n",
    "            elif \"Table\" in str(type(i)):\n",
    "                if not should_exclude_section(section_title):\n",
    "                    tables.append({\n",
    "                        \"page_title\": page_title,\n",
    "                        \"section_title\": section_title,\n",
    "                        \"table\": i,\n",
    "                    })\n",
    "            else:\n",
    "                if not should_exclude_section(section_title):\n",
    "                    text_content = i.text.strip() if hasattr(i, \"text\") else str(i).strip()\n",
    "                    if len(text_content) >= 100:\n",
    "                        texts.append({\n",
    "                            \"page_title\": page_title,\n",
    "                            \"section_title\": section_title,\n",
    "                            \"text\": text_content,\n",
    "                        })\n",
    "\n",
    "    return texts, tables\n",
    "\n"
   ]
  },
  {
   "cell_type": "code",
   "execution_count": 5,
   "id": "7211457c",
   "metadata": {},
   "outputs": [],
   "source": [
    "from pathlib import Path\n",
    "\n",
    "raw_html_path = Path('raw_html')\n",
    "file_names = [f.name for f in raw_html_path.iterdir() if f.is_file()]"
   ]
  },
  {
   "cell_type": "code",
   "execution_count": 6,
   "id": "d1db5856",
   "metadata": {},
   "outputs": [
    {
     "name": "stderr",
     "output_type": "stream",
     "text": [
      "100%|██████████| 2683/2683 [05:27<00:00,  8.19it/s]\n"
     ]
    }
   ],
   "source": [
    "texts, tables = partition_files(file_names)"
   ]
  },
  {
   "cell_type": "code",
   "execution_count": 77,
   "id": "55ebbb29",
   "metadata": {},
   "outputs": [
    {
     "data": {
      "text/plain": [
       "(19039, 12010)"
      ]
     },
     "execution_count": 77,
     "metadata": {},
     "output_type": "execute_result"
    }
   ],
   "source": [
    "len(texts), len(tables)"
   ]
  },
  {
   "cell_type": "code",
   "execution_count": 7,
   "id": "c65395b4",
   "metadata": {},
   "outputs": [],
   "source": [
    "summarize_prompt = \"\"\"\n",
    "You are an assistant tasked with summarizing the tables. \n",
    "Give a concise and short summary of the table.\n",
    "\n",
    "Respond only with the summary, no additionnal comment.\n",
    "Do not start your message by saying \"Here is a summary\" or anything like that.\n",
    "Just give the summary as it is.\n",
    "\n",
    "Table chunk: {element}\n",
    "\"\"\""
   ]
  },
  {
   "cell_type": "code",
   "execution_count": 8,
   "id": "77f28c3c",
   "metadata": {},
   "outputs": [],
   "source": [
    "test_element = partition_saved_html_with_strategy(\"raw_html/Weapons.html\")\n",
    "swords_table = test_element[3].metadata.orig_elements[2].metadata.text_as_html\n",
    "test_propmpt = summarize_prompt.format(element=swords_table)"
   ]
  },
  {
   "cell_type": "code",
   "execution_count": 9,
   "id": "aaccc68a",
   "metadata": {},
   "outputs": [
    {
     "data": {
      "text/plain": [
       "'28 swords listed with level, damage range, critical chance, stat bonuses, acquisition location, and buy/sell prices; ranges from level 1 Rusty Sword (2–5 dmg) to level 17 Infinity Blade (80–100 dmg) with varied bonuses (speed, defense, weight, vampiric power) and sources (mines, guilds, chests, fishing, festivals, dungeons).'"
      ]
     },
     "execution_count": 9,
     "metadata": {},
     "output_type": "execute_result"
    }
   ],
   "source": [
    "from openai import OpenAI\n",
    "\n",
    "client = OpenAI()\n",
    "response = client.chat.completions.create(\n",
    "    model=\"gpt-5-nano\",\n",
    "    messages=[{\"role\": \"user\", \"content\": test_propmpt}]\n",
    ")\n",
    "\n",
    "result3 = response.choices[0].message.content\n",
    "result3"
   ]
  },
  {
   "cell_type": "code",
   "execution_count": 10,
   "id": "a5cc82eb",
   "metadata": {},
   "outputs": [],
   "source": [
    "import asyncio\n",
    "import re\n",
    "import time\n",
    "from tqdm.asyncio import tqdm_asyncio\n",
    "from openai import AsyncOpenAI, RateLimitError, APIError, APITimeoutError"
   ]
  },
  {
   "cell_type": "code",
   "execution_count": 31,
   "id": "a8900653",
   "metadata": {},
   "outputs": [],
   "source": [
    "MAX_CONCURRENT = 15          # 2–5 is usually safe\n",
    "RETRY_LIMIT = 3\n",
    "BACKOFF_BASE = 2            # seconds to wait * attempt number"
   ]
  },
  {
   "cell_type": "code",
   "execution_count": null,
   "id": "e307930a",
   "metadata": {},
   "outputs": [],
   "source": [
    "client = AsyncOpenAI()\n",
    "\n",
    "# customize limits safely (OpenAI rate limits depend on your account tier)\n",
    "\n",
    "\n",
    "async def summarize_one_table(table_info, sem):\n",
    "    \"\"\"Summarize a single table with retry + backoff.\"\"\"\n",
    "    async with sem:\n",
    "        html_content = getattr(table_info[\"table\"].metadata, \"text_as_html\", \"\")\n",
    "        if not html_content:\n",
    "            table_info[\"summary\"] = \"[No table HTML]\"\n",
    "            return table_info\n",
    "\n",
    "        # truncate long tables to avoid token overflow\n",
    "        html_content = html_content[:8000]\n",
    "        prompt = summarize_prompt.format(element=html_content)\n",
    "\n",
    "        for attempt in range(RETRY_LIMIT):\n",
    "            try:\n",
    "                response = await client.chat.completions.create(\n",
    "                    model=\"gpt-5-nano\",\n",
    "                    messages=[{\"role\": \"user\", \"content\": prompt}],\n",
    "                    timeout=60,\n",
    "                )\n",
    "                summary = response.choices[0].message.content\n",
    "                summary = re.sub(r\"<think>.*?</think>\", \"\", summary, flags=re.DOTALL).strip()\n",
    "                table_info[\"summary\"] = summary\n",
    "                return table_info\n",
    "\n",
    "            except (RateLimitError, APIError, APITimeoutError) as e:\n",
    "                wait_time = BACKOFF_BASE * (attempt + 1)\n",
    "                print(f\"Rate/API error ({attempt+1}/{RETRY_LIMIT}) for {table_info['page_title']}: waiting {wait_time}s -> {type(e).__name__}\")\n",
    "                await asyncio.sleep(wait_time)\n",
    "\n",
    "            except Exception as e:\n",
    "                print(f\"Unexpected error ({attempt+1}/{RETRY_LIMIT}) for {table_info['page_title']}: {e}\")\n",
    "                await asyncio.sleep(2 * (attempt + 1))\n",
    "\n",
    "        table_info[\"summary\"] = \"[FAILED TO SUMMARIZE]\"\n",
    "        return table_info\n",
    "\n",
    "\n",
    "async def summarize_tables_async(tables):\n",
    "    \"\"\"Main async driver\"\"\"\n",
    "    sem = asyncio.Semaphore(MAX_CONCURRENT)\n",
    "    tasks = [summarize_one_table(t, sem) for t in tables]\n",
    "    results = await tqdm_asyncio.gather(*tasks, desc=\"Summarizing tables\", total=len(tasks))\n",
    "    return results\n",
    "\n",
    "\n",
    "def summarize_tables(tables):\n",
    "    \"\"\"Sync wrapper for normal scripts\"\"\"\n",
    "    import nest_asyncio, asyncio\n",
    "    nest_asyncio.apply()\n",
    "    try:\n",
    "        loop = asyncio.get_event_loop()\n",
    "        if loop.is_running():\n",
    "            return asyncio.ensure_future(summarize_tables_async(tables))\n",
    "        else:\n",
    "            return loop.run_until_complete(summarize_tables_async(tables))\n",
    "    except RuntimeError:\n",
    "        return asyncio.run(summarize_tables_async(tables))"
   ]
  },
  {
   "cell_type": "code",
   "execution_count": null,
   "id": "f2b59797",
   "metadata": {},
   "outputs": [
    {
     "name": "stderr",
     "output_type": "stream",
     "text": [
      "Summarizing tables:   0%|          | 0/900 [00:00<?, ?it/s]"
     ]
    },
    {
     "name": "stderr",
     "output_type": "stream",
     "text": [
      "Summarizing tables: 100%|██████████| 900/900 [26:29<00:00,  1.77s/it]\n"
     ]
    }
   ],
   "source": [
    "summarized_tables = summarize_tables(tables[100:1000])"
   ]
  },
  {
   "cell_type": "code",
   "execution_count": 15,
   "id": "afbaba1e",
   "metadata": {},
   "outputs": [
    {
     "data": {
      "text/plain": [
       "<Task finished name='Task-1' coro=<summarize_tables_async() done, defined at C:\\Users\\eghiasva\\AppData\\Local\\Temp\\ipykernel_12316\\3811060167.py:45> result=[{'page_title': '%271000_Years_From_Now%27', 'section_title': \"'1000 Years From Now'\", 'summary': \"The item '10...nnot be sold.\", 'table': <unstructured...002247E7D1940>}, {'page_title': '%271000_Years_From_Now%27', 'section_title': '%271000_Years_From_Now%27', 'summary': 'A categorize...ach category.', 'table': <unstructured...002247E7D2900>}, {'page_title': '%271000_Years_From_Now%27', 'section_title': '%271000_Years_From_Now%27', 'summary': 'Two categori...d Catalogue).', 'table': <unstructured...002247E5FD810>}, {'page_title': '%27Abstract%27', 'section_title': \"'Abstract'\", 'summary': 'Indoor-only ...not sellable.', 'table': <unstructured...002247E6056E0>}, {'page_title': '%27Abstract%27', 'section_title': '%27Abstract%27', 'summary': 'Catalog of f...ach category.', 'table': <unstructured...002247E5FE990>}, {'page_title': '%27Abstract%27', 'section_title': '%27Abstract%27', 'summary': 'Table lists ...d Catalogue).', 'table': <unstructured...002247E606520>}, ...]>"
      ]
     },
     "execution_count": 15,
     "metadata": {},
     "output_type": "execute_result"
    }
   ],
   "source": [
    "summarized_tables"
   ]
  },
  {
   "cell_type": "code",
   "execution_count": 22,
   "id": "5cbe29b5",
   "metadata": {},
   "outputs": [
    {
     "data": {
      "text/plain": [
       "{'page_title': '%27Spires%27',\n",
       " 'section_title': \"'Spires'\",\n",
       " 'table': <unstructured.documents.elements.Table at 0x2247e7cb310>,\n",
       " 'summary': \"Spires is indoor-only furniture and cannot be placed outdoors. Sources and prices: Carpenter's Shop 800g; Traveling Cart 250–2,500g; Casino 3,000g; Furniture Catalogue 0g. Sell price: cannot be sold.\"}"
      ]
     },
     "execution_count": 22,
     "metadata": {},
     "output_type": "execute_result"
    }
   ],
   "source": [
    "tables[99]"
   ]
  },
  {
   "cell_type": "code",
   "execution_count": 26,
   "id": "dc56a15d",
   "metadata": {},
   "outputs": [
    {
     "data": {
      "text/plain": [
       "{'page_title': 'Abby',\n",
       " 'section_title': 'Six Hearts',\n",
       " 'table': <unstructured.documents.elements.Table at 0x22404e2eb30>,\n",
       " 'summary': 'Abigail, in the graveyard, wants adventures and asks about swords; player dialogue changes friendship: +10 for two positive replies, -100 for a dangerous reply, and 0 for \"No.\" Pierre interrupts about cooking; Abigail blames gender expectations, they hide to talk, and the cutscene ends with her asking you to untangle her hair.'}"
      ]
     },
     "execution_count": 26,
     "metadata": {},
     "output_type": "execute_result"
    }
   ],
   "source": [
    "tables[388]"
   ]
  },
  {
   "cell_type": "code",
   "execution_count": null,
   "id": "240cfe01",
   "metadata": {},
   "outputs": [
    {
     "name": "stderr",
     "output_type": "stream",
     "text": [
      "Summarizing tables: 100%|██████████| 1000/1000 [09:52<00:00,  1.69it/s]\n"
     ]
    }
   ],
   "source": [
    "summarized_tables = summarize_tables(tables[1000:2000])"
   ]
  },
  {
   "cell_type": "code",
   "execution_count": 34,
   "id": "bbeb3f62",
   "metadata": {},
   "outputs": [
    {
     "data": {
      "text/plain": [
       "{'page_title': 'Chef%27s_Bundle',\n",
       " 'section_title': 'Pantry',\n",
       " 'table': <unstructured.documents.elements.Table at 0x2240631de80>,\n",
       " 'summary': 'Fall Crops Bundle includes Corn (Summer/Fall), Eggplant, Pumpkin, and Yam (Fall; 3% drop from Duggies on Mines floors 6–29); reward is a Bee House (1).'}"
      ]
     },
     "execution_count": 34,
     "metadata": {},
     "output_type": "execute_result"
    }
   ],
   "source": [
    "tables[1998]"
   ]
  },
  {
   "cell_type": "code",
   "execution_count": null,
   "id": "8bcb820d",
   "metadata": {},
   "outputs": [
    {
     "name": "stderr",
     "output_type": "stream",
     "text": [
      "Summarizing tables: 100%|██████████| 2000/2000 [16:11<00:00,  2.06it/s]\n"
     ]
    }
   ],
   "source": [
    "summarized_tables = summarize_tables(tables[2000:4000])"
   ]
  },
  {
   "cell_type": "code",
   "execution_count": 36,
   "id": "3abdca0f",
   "metadata": {},
   "outputs": [
    {
     "data": {
      "text/plain": [
       "{'page_title': 'Fall_Crops_Bundle',\n",
       " 'section_title': 'Traveling Cart Availability',\n",
       " 'table': <unstructured.documents.elements.Table at 0x224069aeba0>,\n",
       " 'summary': 'Three columns of item lists with asterisks marking silver+ quality. Column 1: Aged Roe, Amethyst*, Ancient Doll*, Ancient Fruit, Aquamarine, Blobfish*, Bone Fragment*, Diamond*. Column 2: Dinosaur, Mayonnaise, Earth Crystal, Emerald*, Fire Quartz, Frozen Geode, Frozen Tear, Hay, Lava Eel*, Prismatic Shard. Column 3: Quartz Roe*, Ruby*, Squid Ink*, Sweet Gem Berry*, Topaz*, Void Salmon, Wheat Flour*, White Algae*.'}"
      ]
     },
     "execution_count": 36,
     "metadata": {},
     "output_type": "execute_result"
    }
   ],
   "source": [
    "tables[3999]"
   ]
  },
  {
   "cell_type": "code",
   "execution_count": null,
   "id": "8ee3a6e6",
   "metadata": {},
   "outputs": [
    {
     "name": "stderr",
     "output_type": "stream",
     "text": [
      "Summarizing tables: 100%|██████████| 4000/4000 [30:38<00:00,  2.18it/s]\n"
     ]
    }
   ],
   "source": [
    "summarized_tables = summarize_tables(tables[4000:8000])"
   ]
  },
  {
   "cell_type": "code",
   "execution_count": 38,
   "id": "7015547c",
   "metadata": {},
   "outputs": [
    {
     "data": {
      "text/plain": [
       "{'page_title': 'Pepper',\n",
       " 'section_title': 'Hot Pepper',\n",
       " 'table': <unstructured.documents.elements.Table at 0x2240c07a270>,\n",
       " 'summary': 'Hot Pepper: Fiery hot with a hint of sweetness. Seed: Pepper Seeds. Growth time: 5 days. Season: Summer. XP: 9 Farming XP. Energy/Health: 13 5 18 8 23 10 33 14. Sell prices: Base Tiller (+10%) 40g 50g 60g 80g; 44g 55g 66g 88g. Artisan Sell Prices (+40%) 120g 150g 180g 240g 130g 325g 168g 210g 252g 336g 182g 455g.'}"
      ]
     },
     "execution_count": 38,
     "metadata": {},
     "output_type": "execute_result"
    }
   ],
   "source": [
    "tables[7999]"
   ]
  },
  {
   "cell_type": "code",
   "execution_count": null,
   "id": "5e7c243f",
   "metadata": {},
   "outputs": [
    {
     "name": "stderr",
     "output_type": "stream",
     "text": [
      "Summarizing tables: 100%|██████████| 4010/4010 [31:18<00:00,  2.14it/s] \n"
     ]
    }
   ],
   "source": [
    "summarized_tables = summarize_tables(tables[8000:12010])"
   ]
  },
  {
   "cell_type": "code",
   "execution_count": 41,
   "id": "9a34ebbd",
   "metadata": {},
   "outputs": [
    {
     "data": {
      "text/plain": [
       "{'page_title': 'Yoba%E2%80%99s_Blessing',\n",
       " 'section_title': 'Available Buffs',\n",
       " 'table': <unstructured.documents.elements.Table at 0x2240c88aeb0>,\n",
       " 'summary': '- The table lists temporary buffs that alter player stats (Farming, Mining, Fishing, Foraging, Attack, Defense, Max Energy, Luck, Magnetic Radius, Speed) or grant special effects (invincibility, debuffs, immunity, etc.).\\n- Buffs are primarily triggered by consuming various foods or ingredients (and some drinks) or by specific actions (e.g., killing enemies with certain rings or using Monster Musk).\\n- Durations are mostly variable, but a few have fixed short durations: Monster Musk 10m, Oil of Garlic 10m, Squid Ink Ravioli 3m, Tipsy 30s, Adrenaline Rush 3s, Warrior Energy 5s, Yoba’s Blessing 5s, Burnt 6s, Darkness 5s, Frozen 2s, Jinxed 8s, Nauseated 2m, Slimed 2.5–3s, Weakness 10s.'}"
      ]
     },
     "execution_count": 41,
     "metadata": {},
     "output_type": "execute_result"
    }
   ],
   "source": [
    "tables[-1]"
   ]
  },
  {
   "cell_type": "code",
   "execution_count": 49,
   "id": "70380aa2",
   "metadata": {},
   "outputs": [],
   "source": [
    "tables2= tables.copy()"
   ]
  },
  {
   "cell_type": "code",
   "execution_count": 60,
   "id": "a76fad2e",
   "metadata": {},
   "outputs": [],
   "source": [
    "def serialize_tables(tables):\n",
    "    serialized = []\n",
    "    for t in tables:\n",
    "        try:\n",
    "            html = getattr(t[\"table\"].metadata, \"text_as_html\", None)\n",
    "            if not html and hasattr(t[\"table\"], \"text\"):\n",
    "                html = t[\"table\"].text\n",
    "            serialized.append({\n",
    "                \"page_title\": t[\"page_title\"],\n",
    "                \"section_title\": t[\"section_title\"],\n",
    "                \"table_html\": html or \"[No HTML available]\",\n",
    "                \"summary\": t.get(\"summary\", \"\")\n",
    "            })\n",
    "        except Exception as e:\n",
    "            serialized.append({\n",
    "                \"page_title\": t[\"page_title\"],\n",
    "                \"section_title\": t[\"section_title\"],\n",
    "                \"table_html\": \"[Serialization error]\",\n",
    "                \"summary\": t.get(\"summary\", \"\"),\n",
    "                \"error\": str(e)\n",
    "            })\n",
    "    return serialized"
   ]
  },
  {
   "cell_type": "code",
   "execution_count": 69,
   "id": "7d4870ee",
   "metadata": {},
   "outputs": [],
   "source": [
    "serialized_tables = serialize_tables(tables2)"
   ]
  },
  {
   "cell_type": "code",
   "execution_count": 70,
   "id": "5246d5e7",
   "metadata": {},
   "outputs": [
    {
     "data": {
      "text/plain": [
       "{'page_title': 'Barbed_Hook',\n",
       " 'section_title': 'Barbed Hook',\n",
       " 'table_html': '<table><tr><td>Barbed Hook</td></tr><tr><td/></tr><tr><td>Makes your catch more secure, causing the &quot;fishing bar&quot; to cling to your catch. Works best on slow, weak fish.</td></tr><tr><td>Information</td></tr><tr><td>Source</td><td>Fish Shop • Crafting • Festival of Ice</td></tr><tr><td>Sell Price</td><td>data-sort-value=&quot;500&quot;&gt; 500g</td></tr><tr><td>Crafting</td></tr><tr><td>Recipe Source</td><td>Fishing (Level 8)</td></tr><tr><td>Ingredients</td><td>Copper Bar (1) Iron Bar (1) Gold Bar (1)</td></tr></table>',\n",
       " 'summary': 'Barbed Hook: a fishing item that makes catches more secure (best for slow/weak fish); available from Fish Shop, Crafting, and Festival of Ice; sells for 500g; crafted from Copper Bar, Iron Bar, and Gold Bar at Fishing level 8.'}"
      ]
     },
     "execution_count": 70,
     "metadata": {},
     "output_type": "execute_result"
    }
   ],
   "source": [
    "serialized_tables[1000]"
   ]
  },
  {
   "cell_type": "code",
   "execution_count": 71,
   "id": "6b80ec4c",
   "metadata": {},
   "outputs": [],
   "source": [
    "\n",
    "with open(\"summarized_tables.json\", \"w\", encoding=\"utf-8\") as f:\n",
    "    json.dump(serialized_tables, f, ensure_ascii=False, indent=2)\n"
   ]
  },
  {
   "cell_type": "code",
   "execution_count": 72,
   "id": "1d1cfc92",
   "metadata": {},
   "outputs": [],
   "source": [
    "with open(\"summarized_tables2.jsonl\", \"w\", encoding=\"utf-8\") as f:\n",
    "    for row in serialized_tables:\n",
    "        json.dump(row, f, ensure_ascii=False)\n",
    "        f.write(\"\\n\")"
   ]
  },
  {
   "cell_type": "code",
   "execution_count": 76,
   "id": "5057a6c2",
   "metadata": {},
   "outputs": [
    {
     "data": {
      "text/plain": [
       "19039"
      ]
     },
     "execution_count": 76,
     "metadata": {},
     "output_type": "execute_result"
    }
   ],
   "source": [
    "len(texts)"
   ]
  },
  {
   "cell_type": "code",
   "execution_count": 79,
   "id": "2d9b741d",
   "metadata": {},
   "outputs": [],
   "source": [
    "with open(\"summarized_texts.json\", \"w\", encoding=\"utf-8\") as f:\n",
    "    json.dump(texts, f, ensure_ascii=False, indent=2)\n"
   ]
  },
  {
   "cell_type": "code",
   "execution_count": 80,
   "id": "0a3bca11",
   "metadata": {},
   "outputs": [],
   "source": [
    "with open(\"summarized_texts2.jsonl\", \"w\", encoding=\"utf-8\") as f:\n",
    "    for row in texts:\n",
    "        json.dump(row, f, ensure_ascii=False)\n",
    "        f.write(\"\\n\")"
   ]
  },
  {
   "cell_type": "code",
   "execution_count": null,
   "id": "16c538cd",
   "metadata": {},
   "outputs": [],
   "source": []
  }
 ],
 "metadata": {
  "kernelspec": {
   "display_name": "Python 3",
   "language": "python",
   "name": "python3"
  },
  "language_info": {
   "codemirror_mode": {
    "name": "ipython",
    "version": 3
   },
   "file_extension": ".py",
   "mimetype": "text/x-python",
   "name": "python",
   "nbconvert_exporter": "python",
   "pygments_lexer": "ipython3",
   "version": "3.13.9"
  }
 },
 "nbformat": 4,
 "nbformat_minor": 5
}
