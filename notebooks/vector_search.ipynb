{
 "cells": [
  {
   "cell_type": "code",
   "execution_count": null,
   "id": "ebe28f9b",
   "metadata": {},
   "outputs": [
    {
     "name": "stderr",
     "output_type": "stream",
     "text": [
      "C:\\Users\\eghiasva\\AppData\\Local\\Packages\\PythonSoftwareFoundation.Python.3.13_qbz5n2kfra8p0\\LocalCache\\local-packages\\Python313\\site-packages\\tqdm\\auto.py:21: TqdmWarning: IProgress not found. Please update jupyter and ipywidgets. See https://ipywidgets.readthedocs.io/en/stable/user_install.html\n",
      "  from .autonotebook import tqdm as notebook_tqdm\n"
     ]
    }
   ],
   "source": [
    "from qdrant_client import QdrantClient, models\n",
    "import json \n"
   ]
  },
  {
   "cell_type": "code",
   "execution_count": 12,
   "id": "2654d971",
   "metadata": {},
   "outputs": [],
   "source": [
    "qd_client = QdrantClient(\"http://localhost:6333\")"
   ]
  },
  {
   "cell_type": "code",
   "execution_count": 3,
   "id": "4e054b9f",
   "metadata": {},
   "outputs": [],
   "source": [
    "from fastembed import TextEmbedding"
   ]
  },
  {
   "cell_type": "code",
   "execution_count": null,
   "id": "ddc76b63",
   "metadata": {},
   "outputs": [],
   "source": [
    "tables=[]\n",
    "texts= []"
   ]
  },
  {
   "cell_type": "code",
   "execution_count": null,
   "id": "951d2b22",
   "metadata": {},
   "outputs": [],
   "source": [
    "with open('data/summarized_tables.json', 'r' , encoding=\"utf-8\") as f1:\n",
    "    tables = json.load(f1)\n",
    "\n",
    "with open('data/summarized_texts.json', 'r' , encoding=\"utf-8\") as f2:\n",
    "    texts = json.load(f2)\n"
   ]
  },
  {
   "cell_type": "code",
   "execution_count": 14,
   "id": "54b1b66d",
   "metadata": {},
   "outputs": [],
   "source": [
    "# configurations\n",
    "\n",
    "model_handle = \"jinaai/jina-embeddings-v2-small-en\"\n",
    "EMBEDDING_DIMENSIONALITY = 512"
   ]
  },
  {
   "cell_type": "code",
   "execution_count": 27,
   "id": "73ba2c5c",
   "metadata": {},
   "outputs": [
    {
     "data": {
      "text/plain": [
       "True"
      ]
     },
     "execution_count": 27,
     "metadata": {},
     "output_type": "execute_result"
    }
   ],
   "source": [
    "collection_name = \"stardew-vector-search\"\n",
    "\n",
    "qd_client.create_collection(\n",
    "    collection_name=collection_name,\n",
    "    vectors_config=models.VectorParams(\n",
    "        size=EMBEDDING_DIMENSIONALITY,\n",
    "        distance=models.Distance.COSINE\n",
    "    )\n",
    ")"
   ]
  },
  {
   "cell_type": "code",
   "execution_count": 28,
   "id": "7af399e5",
   "metadata": {},
   "outputs": [],
   "source": [
    "table_points = []\n",
    "\n",
    "for i , table in enumerate(tables):\n",
    "\n",
    "    text_to_embedd = f\"Page title: {table['page_title']}. Section title: {table['section_title']}. Table summary: {table['summary']}\"\n",
    "    \n",
    "    point = models.PointStruct(\n",
    "        vector = models.Document(text=text_to_embedd, model=model_handle), \n",
    "        id=i,\n",
    "        payload=table\n",
    "    )\n",
    "    table_points.append(point)"
   ]
  },
  {
   "cell_type": "code",
   "execution_count": 57,
   "id": "72c00f5f",
   "metadata": {},
   "outputs": [],
   "source": [
    "text_points = []\n",
    "\n",
    "for i , text in enumerate(texts):\n",
    "    text_to_embedd = f\"Page title: {text['page_title']}. Section title: {text['section_title']}. text: {text['text']}\"\n",
    "    text[\"type\"] =\"text\"\n",
    "    point = models.PointStruct(\n",
    "        vector = models.Document(text=text_to_embedd, model=model_handle), \n",
    "        id=i,\n",
    "        payload=text\n",
    "    )\n",
    "    text_points.append(point)\n",
    "\n",
    "    "
   ]
  },
  {
   "cell_type": "code",
   "execution_count": 62,
   "id": "dc493cf5",
   "metadata": {},
   "outputs": [],
   "source": [
    "def batch_upsert(qd_client, collection_name, points, batch_size=500):\n",
    "    total = len(points)\n",
    "    for i in range(0, total, batch_size):\n",
    "        batch = points[i : i + batch_size]\n",
    "        qd_client.upsert(collection_name=collection_name, points=batch)\n",
    "        print(f\"✅ Upserted {min(i+batch_size, total)}/{total}\")"
   ]
  },
  {
   "cell_type": "code",
   "execution_count": 63,
   "id": "79a0efdd",
   "metadata": {},
   "outputs": [
    {
     "name": "stdout",
     "output_type": "stream",
     "text": [
      "✅ Upserted 500/19039\n",
      "✅ Upserted 1000/19039\n",
      "✅ Upserted 1500/19039\n",
      "✅ Upserted 2000/19039\n",
      "✅ Upserted 2500/19039\n",
      "✅ Upserted 3000/19039\n",
      "✅ Upserted 3500/19039\n",
      "✅ Upserted 4000/19039\n",
      "✅ Upserted 4500/19039\n",
      "✅ Upserted 5000/19039\n",
      "✅ Upserted 5500/19039\n",
      "✅ Upserted 6000/19039\n",
      "✅ Upserted 6500/19039\n",
      "✅ Upserted 7000/19039\n",
      "✅ Upserted 7500/19039\n",
      "✅ Upserted 8000/19039\n",
      "✅ Upserted 8500/19039\n",
      "✅ Upserted 9000/19039\n",
      "✅ Upserted 9500/19039\n",
      "✅ Upserted 10000/19039\n",
      "✅ Upserted 10500/19039\n",
      "✅ Upserted 11000/19039\n",
      "✅ Upserted 11500/19039\n",
      "✅ Upserted 12000/19039\n",
      "✅ Upserted 12500/19039\n",
      "✅ Upserted 13000/19039\n",
      "✅ Upserted 13500/19039\n",
      "✅ Upserted 14000/19039\n",
      "✅ Upserted 14500/19039\n",
      "✅ Upserted 15000/19039\n",
      "✅ Upserted 15500/19039\n",
      "✅ Upserted 16000/19039\n",
      "✅ Upserted 16500/19039\n",
      "✅ Upserted 17000/19039\n",
      "✅ Upserted 17500/19039\n",
      "✅ Upserted 18000/19039\n",
      "✅ Upserted 18500/19039\n",
      "✅ Upserted 19000/19039\n",
      "✅ Upserted 19039/19039\n"
     ]
    }
   ],
   "source": [
    "batch_upsert(qd_client=qd_client,collection_name=collection_name,points=text_points,batch_size=500)"
   ]
  },
  {
   "cell_type": "code",
   "execution_count": 29,
   "id": "fa61e6e0",
   "metadata": {},
   "outputs": [
    {
     "name": "stdout",
     "output_type": "stream",
     "text": [
      "epoch  1\n",
      "epoch  2\n",
      "epoch  3\n",
      "epoch  4\n",
      "epoch  5\n",
      "epoch  6\n",
      "epoch  7\n",
      "epoch  8\n",
      "epoch  9\n",
      "epoch  10\n",
      "epoch  11\n",
      "epoch  12\n"
     ]
    }
   ],
   "source": [
    "for i in range(12):\n",
    "    print(\"epoch \", i+1)\n",
    "    qd_client.upsert(\n",
    "        collection_name=collection_name,\n",
    "        points=table_points[i*1000:(i+1)*1000]\n",
    "    )\n",
    "\n"
   ]
  },
  {
   "cell_type": "code",
   "execution_count": 31,
   "id": "df568959",
   "metadata": {},
   "outputs": [
    {
     "data": {
      "text/plain": [
       "UpdateResult(operation_id=12, status=<UpdateStatus.COMPLETED: 'completed'>)"
      ]
     },
     "execution_count": 31,
     "metadata": {},
     "output_type": "execute_result"
    }
   ],
   "source": [
    "qd_client.upsert(\n",
    "    collection_name=collection_name,\n",
    "    points=table_points[12000:12010]\n",
    ")"
   ]
  },
  {
   "cell_type": "code",
   "execution_count": 64,
   "id": "177dc30b",
   "metadata": {},
   "outputs": [],
   "source": [
    "def vector_search(query, limit=5):\n",
    "    results = qd_client.query_points(\n",
    "        collection_name=collection_name,\n",
    "        query=models.Document( #embed the query text locally\n",
    "            text=query,\n",
    "            model=model_handle \n",
    "        ),\n",
    "        limit=limit,\n",
    "        with_payload=True #to get metadata in the results\n",
    "    )\n",
    "\n",
    "    return results\n"
   ]
  },
  {
   "cell_type": "code",
   "execution_count": 65,
   "id": "e4edf05a",
   "metadata": {},
   "outputs": [
    {
     "data": {
      "text/plain": [
       "[{'page_title': 'Fall_Crops',\n",
       "  'section_title': 'Contents',\n",
       "  'text': 'Crops are plants that are grown from seeds to be harvested for the purpose of profit, food, or gifting. Generally, each crop is seasonal. It can be planted only during its designated season, and when seasons change (after the 28th day), the crop will wither and die. Multi-season crops (i.e., Ancient Fruit, Coffee Bean, Corn, Sunflower, and Wheat), however, will continue to grow during all specified seasons.',\n",
       "  'type': 'text'},\n",
       " {'page_title': 'Spring_Crops',\n",
       "  'section_title': 'Contents',\n",
       "  'text': 'Crops are plants that are grown from seeds to be harvested for the purpose of profit, food, or gifting. Generally, each crop is seasonal. It can be planted only during its designated season, and when seasons change (after the 28th day), the crop will wither and die. Multi-season crops (i.e., Ancient Fruit, Coffee Bean, Corn, Sunflower, and Wheat), however, will continue to grow during all specified seasons.',\n",
       "  'type': 'text'},\n",
       " {'page_title': 'Fall_Seeds',\n",
       "  'section_title': 'Fall Seeds',\n",
       "  'text': 'Fall Seeds are one of the season-specific crafted wild seeds, along with Spring Seeds, Summer Seeds, and Winter Seeds that produce crops normally found as forage. While Farming Skill normally increases the chance to grow a quality crop, Foraging Skill increases the chance to grow a quality crop from Fall Seeds. Choosing the Botanist profession will ensure iridium-quality crops grown from Fall Seeds.',\n",
       "  'type': 'text'},\n",
       " {'page_title': 'Fall_Crops',\n",
       "  'section_title': 'Sunflower',\n",
       "  'text': 'Harvesting a sunflower will also produce 0-2 Sunflower Seeds. Sunflowers can be grown in Summer or Fall.',\n",
       "  'type': 'text'},\n",
       " {'page_title': 'Crops',\n",
       "  'section_title': 'Contents',\n",
       "  'text': 'Crops are plants that are grown from seeds to be harvested for the purpose of profit, food, or gifting. Generally, each crop is seasonal. It can be planted only during its designated season, and when seasons change (after the 28th day), the crop will wither and die. Multi-season crops (i.e., Ancient Fruit, Coffee Bean, Corn, Sunflower, and Wheat), however, will continue to grow during all specified seasons.',\n",
       "  'type': 'text'}]"
      ]
     },
     "execution_count": 65,
     "metadata": {},
     "output_type": "execute_result"
    }
   ],
   "source": [
    "question = \"what crops to plant in fall?\"\n",
    "\n",
    "query_points = vector_search(query=question)\n",
    "\n",
    "results = []\n",
    "for qPoint in query_points.points:\n",
    "    results.append(qPoint.payload)\n",
    "\n",
    "results"
   ]
  },
  {
   "cell_type": "code",
   "execution_count": null,
   "id": "05a14336",
   "metadata": {},
   "outputs": [],
   "source": []
  }
 ],
 "metadata": {
  "kernelspec": {
   "display_name": "Python 3",
   "language": "python",
   "name": "python3"
  },
  "language_info": {
   "codemirror_mode": {
    "name": "ipython",
    "version": 3
   },
   "file_extension": ".py",
   "mimetype": "text/x-python",
   "name": "python",
   "nbconvert_exporter": "python",
   "pygments_lexer": "ipython3",
   "version": "3.13.9"
  }
 },
 "nbformat": 4,
 "nbformat_minor": 5
}
