{
 "cells": [
  {
   "cell_type": "code",
   "execution_count": null,
   "id": "ebe28f9b",
   "metadata": {},
   "outputs": [],
   "source": [
    "from qdrant_client import QdrantClient, models\n",
    "import json \n"
   ]
  },
  {
   "cell_type": "code",
   "execution_count": null,
   "id": "2654d971",
   "metadata": {},
   "outputs": [],
   "source": [
    "qd_client = QdrantClient(\"http://localhost:6333\")"
   ]
  },
  {
   "cell_type": "code",
   "execution_count": null,
   "id": "4e054b9f",
   "metadata": {},
   "outputs": [],
   "source": [
    "from fastembed import TextEmbedding"
   ]
  },
  {
   "cell_type": "code",
   "execution_count": null,
   "id": "ddc76b63",
   "metadata": {},
   "outputs": [],
   "source": [
    "tables=[]\n",
    "texts= []"
   ]
  },
  {
   "cell_type": "code",
   "execution_count": null,
   "id": "951d2b22",
   "metadata": {},
   "outputs": [],
   "source": [
    "with open('../data/summarized_tables.json', 'r' , encoding=\"utf-8\") as f1:\n",
    "    tables = json.load(f1)\n",
    "\n",
    "with open('../data/summarized_texts.json', 'r' , encoding=\"utf-8\") as f2:\n",
    "    texts = json.load(f2)\n"
   ]
  },
  {
   "cell_type": "code",
   "execution_count": null,
   "id": "54b1b66d",
   "metadata": {},
   "outputs": [],
   "source": [
    "# configurations\n",
    "\n",
    "model_handle = \"jinaai/jina-embeddings-v2-small-en\"\n",
    "EMBEDDING_DIMENSIONALITY = 512"
   ]
  },
  {
   "cell_type": "code",
   "execution_count": null,
   "id": "73ba2c5c",
   "metadata": {},
   "outputs": [],
   "source": [
    "collection_name = \"stardew-vector-search\"\n",
    "\n",
    "qd_client.create_collection(\n",
    "    collection_name=collection_name,\n",
    "    vectors_config=models.VectorParams(\n",
    "        size=EMBEDDING_DIMENSIONALITY,\n",
    "        distance=models.Distance.COSINE\n",
    "    )\n",
    ")"
   ]
  },
  {
   "cell_type": "code",
   "execution_count": null,
   "id": "7af399e5",
   "metadata": {},
   "outputs": [],
   "source": [
    "table_points = []\n",
    "\n",
    "for i , table in enumerate(tables):\n",
    "\n",
    "    text_to_embedd = f\"Page title: {table['page_title']}. Section title: {table['section_title']}. Table summary: {table['summary']}\"\n",
    "    \n",
    "    point = models.PointStruct(\n",
    "        vector = models.Document(text=text_to_embedd, model=model_handle), \n",
    "        id=i,\n",
    "        payload=table\n",
    "    )\n",
    "    table_points.append(point)"
   ]
  },
  {
   "cell_type": "code",
   "execution_count": null,
   "id": "72c00f5f",
   "metadata": {},
   "outputs": [],
   "source": [
    "text_points = []\n",
    "\n",
    "for i , text in enumerate(texts):\n",
    "    text_to_embedd = f\"Page title: {text['page_title']}. Section title: {text['section_title']}. text: {text['text']}\"\n",
    "    text[\"type\"] =\"text\"\n",
    "    point = models.PointStruct(\n",
    "        vector = models.Document(text=text_to_embedd, model=model_handle), \n",
    "        id=i,\n",
    "        payload=text\n",
    "    )\n",
    "    text_points.append(point)\n",
    "\n",
    "    "
   ]
  },
  {
   "cell_type": "code",
   "execution_count": null,
   "id": "dc493cf5",
   "metadata": {},
   "outputs": [],
   "source": [
    "def batch_upsert(qd_client, collection_name, points, batch_size=500):\n",
    "    total = len(points)\n",
    "    for i in range(0, total, batch_size):\n",
    "        batch = points[i : i + batch_size]\n",
    "        qd_client.upsert(collection_name=collection_name, points=batch)\n",
    "        print(f\"✅ Upserted {min(i+batch_size, total)}/{total}\")"
   ]
  },
  {
   "cell_type": "code",
   "execution_count": null,
   "id": "79a0efdd",
   "metadata": {},
   "outputs": [],
   "source": [
    "batch_upsert(qd_client=qd_client,collection_name=collection_name,points=text_points,batch_size=500)"
   ]
  },
  {
   "cell_type": "code",
   "execution_count": null,
   "id": "fa61e6e0",
   "metadata": {},
   "outputs": [],
   "source": [
    "for i in range(12):\n",
    "    print(\"epoch \", i+1)\n",
    "    qd_client.upsert(\n",
    "        collection_name=collection_name,\n",
    "        points=table_points[i*1000:(i+1)*1000]\n",
    "    )\n",
    "\n"
   ]
  },
  {
   "cell_type": "code",
   "execution_count": null,
   "id": "df568959",
   "metadata": {},
   "outputs": [],
   "source": [
    "qd_client.upsert(\n",
    "    collection_name=collection_name,\n",
    "    points=table_points[12000:12010]\n",
    ")"
   ]
  },
  {
   "cell_type": "code",
   "execution_count": null,
   "id": "177dc30b",
   "metadata": {},
   "outputs": [],
   "source": [
    "def vector_search(query, limit=5):\n",
    "    results = qd_client.query_points(\n",
    "        collection_name=collection_name,\n",
    "        query=models.Document( #embed the query text locally\n",
    "            text=query,\n",
    "            model=model_handle \n",
    "        ),\n",
    "        limit=limit,\n",
    "        with_payload=True #to get metadata in the results\n",
    "    )\n",
    "\n",
    "    return results\n"
   ]
  },
  {
   "cell_type": "code",
   "execution_count": null,
   "id": "e4edf05a",
   "metadata": {},
   "outputs": [],
   "source": [
    "question = \"what crops to plant in fall?\"\n",
    "\n",
    "query_points = vector_search(query=question)\n",
    "\n",
    "results = []\n",
    "for qPoint in query_points.points:\n",
    "    results.append(qPoint.payload)\n",
    "\n",
    "results"
   ]
  },
  {
   "cell_type": "code",
   "execution_count": null,
   "id": "05a14336",
   "metadata": {},
   "outputs": [],
   "source": []
  }
 ],
 "metadata": {
  "kernelspec": {
   "display_name": "Python 3",
   "language": "python",
   "name": "python3"
  },
  "language_info": {
   "codemirror_mode": {
    "name": "ipython",
    "version": 3
   },
   "file_extension": ".py",
   "mimetype": "text/x-python",
   "name": "python",
   "nbconvert_exporter": "python",
   "pygments_lexer": "ipython3",
   "version": "3.13.9"
  }
 },
 "nbformat": 4,
 "nbformat_minor": 5
}
