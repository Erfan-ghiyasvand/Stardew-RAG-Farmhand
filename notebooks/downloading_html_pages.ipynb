{
 "cells": [
  {
   "cell_type": "code",
   "execution_count": null,
   "id": "92b02454",
   "metadata": {},
   "outputs": [],
   "source": [
    "import requests\n",
    "import os\n",
    "from urllib.parse import urlparse\n",
    "from pathlib import Path\n",
    "import time\n",
    "from tqdm import tqdm"
   ]
  },
  {
   "cell_type": "code",
   "execution_count": null,
   "id": "342bbd5b",
   "metadata": {},
   "outputs": [],
   "source": [
    "def read_links(path: str) -> list[str]:\n",
    "    links = []\n",
    "    with open(path, \"r\", encoding=\"utf-8\") as f:\n",
    "        for line in f:\n",
    "            line = line.strip()\n",
    "            if not line or line.startswith(\"#\"):\n",
    "                continue\n",
    "            links.append(line)\n",
    "    return links\n",
    "\n",
    "path = \"path_to_list_of_urls\" # Not included in repo due to the copyright, you can use the downloaded data in the data directory\n",
    "\n",
    "links = read_links(path)\n"
   ]
  },
  {
   "cell_type": "code",
   "execution_count": null,
   "id": "00715ee4",
   "metadata": {},
   "outputs": [],
   "source": [
    "def download_and_save_html(urls, save_dir=\"raw_html\", filename=None):\n",
    "    # Create directory if it doesn't exist\n",
    "    Path(save_dir).mkdir(parents=True, exist_ok=True)\n",
    "    \n",
    "    headers = {'User-Agent': \"researchbot/1.0\"}\n",
    "    saved_files = []\n",
    "\n",
    "    for url in tqdm(urls, desc=\"Downloading HTML pages\"):\n",
    "        time.sleep(0.25)\n",
    "        try:\n",
    "            filename = urlparse(url).path.replace(\"/\", \"\") + \".html\"\n",
    "            response = requests.get(url, headers=headers, timeout=30)\n",
    "            response.raise_for_status()\n",
    "            \n",
    "            file_path = os.path.join(save_dir, filename)\n",
    "\n",
    "            with open(file_path, 'w', encoding='utf-8') as f:\n",
    "                f.write(response.text)\n",
    "\n",
    "            saved_files.append(file_path)\n",
    "\n",
    "        except requests.exceptions.RequestException as e:\n",
    "            print(f\"Error downloading {url}: {e}\")\n",
    "            saved_files.append(None)\n",
    "        except Exception as e:\n",
    "            print(f\"Error saving file: {e}\")\n",
    "            saved_files.append(None)\n",
    "\n",
    "    return saved_files\n"
   ]
  },
  {
   "cell_type": "code",
   "execution_count": null,
   "id": "ad1e3678",
   "metadata": {},
   "outputs": [],
   "source": [
    "download_and_save_html(links, save_dir=\"raw_html\")"
   ]
  },
  {
   "cell_type": "code",
   "execution_count": null,
   "id": "701146e3",
   "metadata": {},
   "outputs": [],
   "source": []
  }
 ],
 "metadata": {
  "kernelspec": {
   "display_name": "Python 3",
   "language": "python",
   "name": "python3"
  },
  "language_info": {
   "codemirror_mode": {
    "name": "ipython",
    "version": 3
   },
   "file_extension": ".py",
   "mimetype": "text/x-python",
   "name": "python",
   "nbconvert_exporter": "python",
   "pygments_lexer": "ipython3",
   "version": "3.11.9"
  }
 },
 "nbformat": 4,
 "nbformat_minor": 5
}
