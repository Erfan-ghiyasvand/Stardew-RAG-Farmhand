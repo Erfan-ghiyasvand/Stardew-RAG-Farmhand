{
 "cells": [
  {
   "cell_type": "code",
   "execution_count": null,
   "id": "888ec5aa",
   "metadata": {},
   "outputs": [],
   "source": [
    "from qdrant_client import QdrantClient\n",
    "from qdrant_client import models\n",
    "from openai import OpenAI"
   ]
  },
  {
   "cell_type": "code",
   "execution_count": null,
   "id": "32d9b8ae",
   "metadata": {},
   "outputs": [],
   "source": [
    "qdClient = QdrantClient(\"http://localhost:6333\")\n",
    "\n",
    "OpenAIclient = OpenAI()"
   ]
  },
  {
   "cell_type": "code",
   "execution_count": null,
   "id": "9ae98830",
   "metadata": {},
   "outputs": [],
   "source": [
    "# Configs\n",
    "\n",
    "collection_name=\"stardew-sparse-and-dense\"\n",
    "vector_model_handle = \"jinaai/jina-embeddings-v2-small-en\"\n",
    "EMBEDDING_DIMENSIONALITY = 512\n",
    "spasrse_model_handle=\"Qdrant/bm25\""
   ]
  },
  {
   "cell_type": "code",
   "execution_count": null,
   "id": "e699c8cb",
   "metadata": {},
   "outputs": [],
   "source": [
    "def rrf_search(client, collection_name, query: str, limit: int = 5):\n",
    "    results = client.query_points(\n",
    "        collection_name=collection_name,\n",
    "        prefetch=[\n",
    "            models.Prefetch(\n",
    "                query=models.Document(\n",
    "                    text=query,\n",
    "                    model=vector_model_handle,\n",
    "                ),\n",
    "                using=\"jina-small\",\n",
    "                limit=(5 * limit),\n",
    "            ),\n",
    "            models.Prefetch(\n",
    "                query=models.Document(\n",
    "                    text=query,\n",
    "                    model=spasrse_model_handle,\n",
    "                ),\n",
    "                using=\"bm25\",\n",
    "                limit=(5 * limit),\n",
    "            ),\n",
    "        ],\n",
    "        # Fusion query enables fusion on the prefetched results\n",
    "        query=models.FusionQuery(fusion=models.Fusion.RRF),\n",
    "        with_payload=True,\n",
    "    )\n",
    "\n",
    "    return results.points[:limit]"
   ]
  },
  {
   "cell_type": "code",
   "execution_count": null,
   "id": "a38ee610",
   "metadata": {},
   "outputs": [],
   "source": [
    "def build_prompt(query, search_results):\n",
    "    prompt_template = \"\"\"\n",
    "    You're an AI assistant for the players of a computer game named Stardew Valley.\n",
    "    Answer the QUESTION based on the CONTEXT extracted from the game's wiki website. Some materials are texts and some are html tables.\n",
    "    Use only the materials from the CONTEXT when answering the QUESTION, and don't use your own knowledge of the game.\n",
    "\n",
    "    QUESTION: {question}\n",
    "\n",
    "    CONTEXT:\n",
    "    {context}\n",
    "    \"\"\".strip()\n",
    "\n",
    "    context = \"\"\n",
    "    \n",
    "    for doc in search_results:\n",
    "        if (doc.payload[\"content_type\"] ==\"text\"):\n",
    "            context += (\n",
    "            f\"Page title: {doc.payload['page_title']}\\n\"\n",
    "            f\"Section title: {doc.payload['section_title']}\\n\"\n",
    "            f\"Text: {doc.payload['text']}\\n\\n\\n\"\n",
    "            )\n",
    "        elif (doc.payload[\"content_type\"] ==\"table\"):\n",
    "            context += (\n",
    "            f\"Page title: {doc.payload['page_title']}\\n\"\n",
    "            f\"Section title: {doc.payload['section_title']}\\n\"\n",
    "            f\"Table HTML: {doc.payload['table_html']}\\n\\n\\n\"\n",
    "            )\n",
    "\n",
    "    prompt = prompt_template.format(question=query, context=context).strip()\n",
    "    return prompt"
   ]
  },
  {
   "cell_type": "code",
   "execution_count": null,
   "id": "6b86c969",
   "metadata": {},
   "outputs": [],
   "source": [
    "def llm(prompt, model='gpt-5-mini'):\n",
    "    response = OpenAIclient.chat.completions.create(\n",
    "        model=model,\n",
    "        messages=[{\"role\": \"user\", \"content\": prompt}]\n",
    "    )\n",
    "    \n",
    "    return response.choices[0].message.content"
   ]
  },
  {
   "cell_type": "code",
   "execution_count": null,
   "id": "cb60de95",
   "metadata": {},
   "outputs": [],
   "source": [
    "def rag(query, model='gpt-5-mini'):\n",
    "    search_results = rrf_search(client=qdClient,collection_name=collection_name,query=query)\n",
    "    prompt = build_prompt(query, search_results)\n",
    "    answer = llm(prompt, model=model)\n",
    "    return answer"
   ]
  },
  {
   "cell_type": "code",
   "execution_count": null,
   "id": "99cfd8ba",
   "metadata": {},
   "outputs": [],
   "source": [
    "question = \"How to upgrade my tools?\"\n",
    "rag(question)"
   ]
  },
  {
   "cell_type": "code",
   "execution_count": null,
   "id": "490943fc",
   "metadata": {},
   "outputs": [],
   "source": []
  }
 ],
 "metadata": {
  "kernelspec": {
   "display_name": "Python 3",
   "language": "python",
   "name": "python3"
  },
  "language_info": {
   "codemirror_mode": {
    "name": "ipython",
    "version": 3
   },
   "file_extension": ".py",
   "mimetype": "text/x-python",
   "name": "python",
   "nbconvert_exporter": "python",
   "pygments_lexer": "ipython3",
   "version": "3.11.9"
  }
 },
 "nbformat": 4,
 "nbformat_minor": 5
}
