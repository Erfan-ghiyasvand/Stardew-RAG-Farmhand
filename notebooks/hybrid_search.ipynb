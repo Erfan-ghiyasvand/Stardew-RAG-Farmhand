{
 "cells": [
  {
   "cell_type": "code",
   "execution_count": 6,
   "id": "30086bb2",
   "metadata": {},
   "outputs": [],
   "source": [
    "from qdrant_client import QdrantClient\n",
    "from qdrant_client import models\n",
    "import json\n",
    "import uuid"
   ]
  },
  {
   "cell_type": "code",
   "execution_count": 7,
   "id": "44adf288",
   "metadata": {},
   "outputs": [],
   "source": [
    "qdClient = QdrantClient(\"http://localhost:6333\")"
   ]
  },
  {
   "cell_type": "code",
   "execution_count": 9,
   "id": "bd19cafb",
   "metadata": {},
   "outputs": [],
   "source": [
    "collection_name=\"stardew-sparse-and-dense\"\n",
    "vector_model_handle = \"jinaai/jina-embeddings-v2-small-en\"\n",
    "EMBEDDING_DIMENSIONALITY = 512\n",
    "spasrse_model_handle=\"Qdrant/bm25\""
   ]
  },
  {
   "cell_type": "code",
   "execution_count": null,
   "id": "18843bff",
   "metadata": {},
   "outputs": [],
   "source": [
    "qdClient.get_collection(collection_name)"
   ]
  },
  {
   "cell_type": "code",
   "execution_count": null,
   "id": "e0dfee54",
   "metadata": {},
   "outputs": [],
   "source": [
    "info = qdClient.get_collection(collection_name)\n",
    "print(info.points_count, info.indexed_vectors_count)"
   ]
  },
  {
   "cell_type": "code",
   "execution_count": null,
   "id": "3feecdaf",
   "metadata": {},
   "outputs": [],
   "source": [
    "tables = []\n",
    "texts = []\n",
    "\n",
    "with open('data/summarized_tables.json', 'r' , encoding=\"utf-8\") as f1:\n",
    "    tables = json.load(f1)\n",
    "    \n",
    "for t in tables:\n",
    "    t[\"content_type\"] = \"table\"\n",
    "\n",
    "with open('data/summarized_texts.json', 'r' , encoding=\"utf-8\") as f2:\n",
    "    texts = json.load(f2)\n",
    "\n",
    "for t in texts:\n",
    "    t[\"content_type\"] = \"text\""
   ]
  },
  {
   "cell_type": "code",
   "execution_count": null,
   "id": "165066db",
   "metadata": {},
   "outputs": [],
   "source": [
    "qdClient.create_collection(\n",
    "    collection_name=collection_name,\n",
    "    vectors_config={\n",
    "        # Named dense vector for jinaai/jina-embeddings-v2-small-en\n",
    "        \"jina-small\": models.VectorParams(\n",
    "            size=EMBEDDING_DIMENSIONALITY,\n",
    "            distance=models.Distance.COSINE,\n",
    "        ),\n",
    "    },\n",
    "    sparse_vectors_config={\n",
    "        \"bm25\": models.SparseVectorParams(\n",
    "            modifier=models.Modifier.IDF,\n",
    "        )\n",
    "    }\n",
    ")"
   ]
  },
  {
   "cell_type": "code",
   "execution_count": null,
   "id": "f4464be7",
   "metadata": {},
   "outputs": [],
   "source": [
    "points = []\n",
    "for text in texts:\n",
    "    text_to_embedd = f\"Page title (2X importance): {text['page_title']}. Section title: {text['section_title']}. text: {text['text']}\"\n",
    "    \n",
    "    point = models.PointStruct(\n",
    "            id=uuid.uuid4().hex,\n",
    "            vector={\n",
    "                \"jina-small\": models.Document(\n",
    "                    text=text_to_embedd,\n",
    "                    model=vector_model_handle,\n",
    "                ),\n",
    "                \"bm25\": models.Document(\n",
    "                    text=text_to_embedd, \n",
    "                    model=spasrse_model_handle,\n",
    "                ),\n",
    "            },\n",
    "            payload=text\n",
    "        )\n",
    "    points.append(point)"
   ]
  },
  {
   "cell_type": "code",
   "execution_count": null,
   "id": "a107efcc",
   "metadata": {},
   "outputs": [],
   "source": [
    "for table in tables:\n",
    "    text_to_embedd = f\"Page title (2X importance): {table['page_title']}. Section title: {table['section_title']}. Table summary: {table['summary']}\"\n",
    "\n",
    "    point = models.PointStruct(\n",
    "            id=uuid.uuid4().hex,\n",
    "            vector={\n",
    "                \"jina-small\": models.Document(\n",
    "                    text=text_to_embedd,\n",
    "                    model=vector_model_handle,\n",
    "                ),\n",
    "                \"bm25\": models.Document(\n",
    "                    text=text_to_embedd, \n",
    "                    model=spasrse_model_handle,\n",
    "                ),\n",
    "            },\n",
    "            payload=table\n",
    "        )\n",
    "    points.append(point)\n"
   ]
  },
  {
   "cell_type": "code",
   "execution_count": null,
   "id": "bb703ab7",
   "metadata": {},
   "outputs": [],
   "source": [
    "def batch_upsert(qdClient, collection_name, points, batch_size=500):\n",
    "    total = len(points)\n",
    "    for i in range(0, total, batch_size):\n",
    "        batch = points[i:i+batch_size]\n",
    "        qdClient.upsert(collection_name=collection_name,points=batch)\n",
    "        print(f\"✅ Upserted {min(i+batch_size, total)}/{total}\")"
   ]
  },
  {
   "cell_type": "code",
   "execution_count": null,
   "id": "c90b73e7",
   "metadata": {},
   "outputs": [],
   "source": [
    "batch_upsert(qdClient=qdClient,collection_name=collection_name,points=points,batch_size=1000)"
   ]
  },
  {
   "cell_type": "code",
   "execution_count": null,
   "id": "68626880",
   "metadata": {},
   "outputs": [],
   "source": [
    "def multi_stage_search(client, collection_name, query: str, limit: int = 5) -> list[models.ScoredPoint]:\n",
    "    results = client.query_points(\n",
    "        collection_name=collection_name,\n",
    "        prefetch=[\n",
    "            models.Prefetch(\n",
    "                query=models.Document(\n",
    "                    text=query,\n",
    "                    model=vector_model_handle,\n",
    "                ),\n",
    "                using=\"jina-small\",\n",
    "                # Prefetch three times more results, then\n",
    "                # expected to return, so we can really rerank\n",
    "                limit=(3 * limit),\n",
    "            ),\n",
    "        ],\n",
    "        query=models.Document(\n",
    "            text=query,\n",
    "            model=spasrse_model_handle, \n",
    "        ),\n",
    "        using=\"bm25\",\n",
    "        limit=limit,\n",
    "        with_payload=True,\n",
    "    )\n",
    "\n",
    "    return results.points"
   ]
  },
  {
   "cell_type": "code",
   "execution_count": null,
   "id": "5f6ff477",
   "metadata": {},
   "outputs": [],
   "source": [
    "question = \"How to become friends with Abigail?\"\n",
    "\n",
    "results = multi_stage_search(client = qdClient , collection_name=collection_name, query=question)\n",
    "results"
   ]
  },
  {
   "cell_type": "code",
   "execution_count": null,
   "id": "6b4e6e9c",
   "metadata": {},
   "outputs": [],
   "source": [
    "def rrf_search(client, collection_name, query: str, limit: int = 5) -> list[models.ScoredPoint]:\n",
    "    results = client.query_points(\n",
    "        collection_name=collection_name,\n",
    "        prefetch=[\n",
    "            models.Prefetch(\n",
    "                query=models.Document(\n",
    "                    text=query,\n",
    "                    model=vector_model_handle,\n",
    "                ),\n",
    "                using=\"jina-small\",\n",
    "                limit=(5 * limit),\n",
    "            ),\n",
    "            models.Prefetch(\n",
    "                query=models.Document(\n",
    "                    text=query,\n",
    "                    model=spasrse_model_handle,\n",
    "                ),\n",
    "                using=\"bm25\",\n",
    "                limit=(5 * limit),\n",
    "            ),\n",
    "        ],\n",
    "        # Fusion query enables fusion on the prefetched results\n",
    "        query=models.FusionQuery(fusion=models.Fusion.RRF),\n",
    "        with_payload=True,\n",
    "    )\n",
    "\n",
    "    return results.points[:limit]"
   ]
  },
  {
   "cell_type": "code",
   "execution_count": null,
   "id": "e0aabf97",
   "metadata": {},
   "outputs": [],
   "source": [
    "results = rrf_search(client=qdClient,collection_name=collection_name, query=question)\n",
    "results"
   ]
  },
  {
   "cell_type": "code",
   "execution_count": null,
   "id": "23db1cdb",
   "metadata": {},
   "outputs": [],
   "source": [
    "results[0].payload"
   ]
  },
  {
   "cell_type": "code",
   "execution_count": null,
   "id": "ad1fd2ac",
   "metadata": {},
   "outputs": [],
   "source": [
    "def build_prompt(query, search_results):\n",
    "    prompt_template = \"\"\"\n",
    "    You're an AI assistant for the players of a computer game named Stardew Valley.\n",
    "    Answer the QUESTION based on the CONTEXT extracted from the game's wiki website. Some materials are texts and some are html tables.\n",
    "    Use only the materials from the CONTEXT when answering the QUESTION, and don't use your own knowledge of the game.\n",
    "\n",
    "    QUESTION: {question}\n",
    "\n",
    "    CONTEXT:\n",
    "    {context}\n",
    "    \"\"\".strip()\n",
    "\n",
    "    context = \"\"\n",
    "    \n",
    "    for doc in search_results:\n",
    "        if (doc.payload[\"content_type\"] ==\"text\"):\n",
    "            context += (\n",
    "            f\"Page title: {doc.payload['page_title']}\\n\"\n",
    "            f\"Section title: {doc.payload['section_title']}\\n\"\n",
    "            f\"Text: {doc.payload['text']}\\n\\n\\n\"\n",
    "            )\n",
    "        elif (doc.payload[\"content_type\"] ==\"table\"):\n",
    "            context += (\n",
    "            f\"Page title: {doc.payload['page_title']}\\n\"\n",
    "            f\"Section title: {doc.payload['section_title']}\\n\"\n",
    "            f\"Table HTML: {doc.payload['table_html']}\\n\\n\\n\"\n",
    "            )\n",
    "\n",
    "    prompt = prompt_template.format(question=query, context=context).strip()\n",
    "    return prompt"
   ]
  },
  {
   "cell_type": "code",
   "execution_count": null,
   "id": "e47a4e5a",
   "metadata": {},
   "outputs": [],
   "source": [
    "prompt = build_prompt(question, results)"
   ]
  },
  {
   "cell_type": "code",
   "execution_count": null,
   "id": "9db5a382",
   "metadata": {},
   "outputs": [],
   "source": []
  },
  {
   "cell_type": "code",
   "execution_count": 1,
   "id": "b9c3b59e",
   "metadata": {},
   "outputs": [
    {
     "name": "stderr",
     "output_type": "stream",
     "text": [
      "C:\\Users\\erfan\\AppData\\Local\\Packages\\PythonSoftwareFoundation.Python.3.11_qbz5n2kfra8p0\\LocalCache\\local-packages\\Python311\\site-packages\\tqdm\\auto.py:21: TqdmWarning: IProgress not found. Please update jupyter and ipywidgets. See https://ipywidgets.readthedocs.io/en/stable/user_install.html\n",
      "  from .autonotebook import tqdm as notebook_tqdm\n"
     ]
    }
   ],
   "source": [
    "from Retrieval_evaluation import evaluate_search_functions"
   ]
  },
  {
   "cell_type": "code",
   "execution_count": 2,
   "id": "9d22d3a9",
   "metadata": {},
   "outputs": [],
   "source": [
    "from ragv1 import multi_stage_search , rrf_search \n"
   ]
  },
  {
   "cell_type": "code",
   "execution_count": 3,
   "id": "801851a8",
   "metadata": {},
   "outputs": [
    {
     "name": "stdout",
     "output_type": "stream",
     "text": [
      "SUCCESS: Loaded 19039 text entries and 12010 table entries\n",
      "\n",
      "Evaluating: multi_stage_search\n",
      "multi_stage_search → MRR@5: 0.507, HitRate@5: 0.800\n",
      "\n",
      "Evaluating: rrf_search\n",
      "rrf_search → MRR@5: 0.300, HitRate@5: 0.400\n"
     ]
    },
    {
     "data": {
      "text/plain": [
       "{'multi_stage_search': {'MRR': 0.5066666666666667, 'HitRate': 0.8},\n",
       " 'rrf_search': {'MRR': 0.3, 'HitRate': 0.4}}"
      ]
     },
     "execution_count": 3,
     "metadata": {},
     "output_type": "execute_result"
    }
   ],
   "source": [
    "evaluate_search_functions([multi_stage_search, rrf_search], k=5, sampleNum=5)"
   ]
  },
  {
   "cell_type": "code",
   "execution_count": null,
   "id": "ba731469",
   "metadata": {},
   "outputs": [],
   "source": []
  },
  {
   "cell_type": "code",
   "execution_count": null,
   "id": "5d210184",
   "metadata": {},
   "outputs": [],
   "source": []
  }
 ],
 "metadata": {
  "kernelspec": {
   "display_name": "Python 3",
   "language": "python",
   "name": "python3"
  },
  "language_info": {
   "codemirror_mode": {
    "name": "ipython",
    "version": 3
   },
   "file_extension": ".py",
   "mimetype": "text/x-python",
   "name": "python",
   "nbconvert_exporter": "python",
   "pygments_lexer": "ipython3",
   "version": "3.11.9"
  }
 },
 "nbformat": 4,
 "nbformat_minor": 5
}
