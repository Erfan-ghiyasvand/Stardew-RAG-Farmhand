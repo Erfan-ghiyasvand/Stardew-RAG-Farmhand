{
 "cells": [
  {
   "cell_type": "code",
   "execution_count": 1,
   "id": "30086bb2",
   "metadata": {},
   "outputs": [
    {
     "name": "stderr",
     "output_type": "stream",
     "text": [
      "C:\\Users\\erfan\\AppData\\Local\\Packages\\PythonSoftwareFoundation.Python.3.11_qbz5n2kfra8p0\\LocalCache\\local-packages\\Python311\\site-packages\\tqdm\\auto.py:21: TqdmWarning: IProgress not found. Please update jupyter and ipywidgets. See https://ipywidgets.readthedocs.io/en/stable/user_install.html\n",
      "  from .autonotebook import tqdm as notebook_tqdm\n"
     ]
    }
   ],
   "source": [
    "from qdrant_client import QdrantClient\n",
    "from qdrant_client import models\n",
    "import json\n",
    "import uuid"
   ]
  },
  {
   "cell_type": "code",
   "execution_count": 2,
   "id": "44adf288",
   "metadata": {},
   "outputs": [],
   "source": [
    "qdClient = QdrantClient(\"http://localhost:6333\")"
   ]
  },
  {
   "cell_type": "code",
   "execution_count": 3,
   "id": "bd19cafb",
   "metadata": {},
   "outputs": [],
   "source": [
    "collection_name=\"stardew-sparse-and-dense\"\n",
    "vector_model_handle = \"jinaai/jina-embeddings-v2-small-en\"\n",
    "EMBEDDING_DIMENSIONALITY = 512\n",
    "spasrse_model_handle=\"Qdrant/bm25\""
   ]
  },
  {
   "cell_type": "code",
   "execution_count": null,
   "id": "3feecdaf",
   "metadata": {},
   "outputs": [],
   "source": [
    "tables = []\n",
    "texts = []\n",
    "\n",
    "with open('../data/summarized_tables.json', 'r' , encoding=\"utf-8\") as f1:\n",
    "    tables = json.load(f1)\n",
    "    \n",
    "for t in tables:\n",
    "    t[\"content_type\"] = \"table\"\n",
    "\n",
    "with open('../data/summarized_texts.json', 'r' , encoding=\"utf-8\") as f2:\n",
    "    texts = json.load(f2)\n",
    "\n",
    "for t in texts:\n",
    "    t[\"content_type\"] = \"text\""
   ]
  },
  {
   "cell_type": "code",
   "execution_count": null,
   "id": "165066db",
   "metadata": {},
   "outputs": [],
   "source": [
    "qdClient.create_collection(\n",
    "    collection_name=collection_name,\n",
    "    vectors_config={\n",
    "        # Named dense vector for jinaai/jina-embeddings-v2-small-en\n",
    "        \"jina-small\": models.VectorParams(\n",
    "            size=EMBEDDING_DIMENSIONALITY,\n",
    "            distance=models.Distance.COSINE,\n",
    "        ),\n",
    "    },\n",
    "    sparse_vectors_config={\n",
    "        \"bm25\": models.SparseVectorParams(\n",
    "            modifier=models.Modifier.IDF,\n",
    "        )\n",
    "    }\n",
    ")"
   ]
  },
  {
   "cell_type": "code",
   "execution_count": null,
   "id": "f4464be7",
   "metadata": {},
   "outputs": [],
   "source": [
    "points = []\n",
    "for text in texts:\n",
    "    text_to_embedd = f\"Page title (2X importance): {text['page_title']}. Section title: {text['section_title']}. text: {text['text']}\"\n",
    "    \n",
    "    point = models.PointStruct(\n",
    "            id=uuid.uuid4().hex,\n",
    "            vector={\n",
    "                \"jina-small\": models.Document(\n",
    "                    text=text_to_embedd,\n",
    "                    model=vector_model_handle,\n",
    "                ),\n",
    "                \"bm25\": models.Document(\n",
    "                    text=text_to_embedd, \n",
    "                    model=spasrse_model_handle,\n",
    "                ),\n",
    "            },\n",
    "            payload=text\n",
    "        )\n",
    "    points.append(point)"
   ]
  },
  {
   "cell_type": "code",
   "execution_count": null,
   "id": "a107efcc",
   "metadata": {},
   "outputs": [],
   "source": [
    "for table in tables:\n",
    "    text_to_embedd = f\"Page title (2X importance): {table['page_title']}. Section title: {table['section_title']}. Table summary: {table['summary']}\"\n",
    "\n",
    "    point = models.PointStruct(\n",
    "            id=uuid.uuid4().hex,\n",
    "            vector={\n",
    "                \"jina-small\": models.Document(\n",
    "                    text=text_to_embedd,\n",
    "                    model=vector_model_handle,\n",
    "                ),\n",
    "                \"bm25\": models.Document(\n",
    "                    text=text_to_embedd, \n",
    "                    model=spasrse_model_handle,\n",
    "                ),\n",
    "            },\n",
    "            payload=table\n",
    "        )\n",
    "    points.append(point)\n"
   ]
  },
  {
   "cell_type": "code",
   "execution_count": null,
   "id": "bb703ab7",
   "metadata": {},
   "outputs": [],
   "source": [
    "def batch_upsert(qdClient, collection_name, points, batch_size=500):\n",
    "    total = len(points)\n",
    "    for i in range(0, total, batch_size):\n",
    "        batch = points[i:i+batch_size]\n",
    "        qdClient.upsert(collection_name=collection_name,points=batch)\n",
    "        print(f\"✅ Upserted {min(i+batch_size, total)}/{total}\")"
   ]
  },
  {
   "cell_type": "code",
   "execution_count": null,
   "id": "c90b73e7",
   "metadata": {},
   "outputs": [],
   "source": [
    "batch_upsert(qdClient=qdClient,collection_name=collection_name,points=points,batch_size=1000)"
   ]
  },
  {
   "cell_type": "code",
   "execution_count": 5,
   "id": "68626880",
   "metadata": {},
   "outputs": [],
   "source": [
    "def multi_stage_search(client, collection_name, query: str, limit: int = 5) -> list[models.ScoredPoint]:\n",
    "    results = client.query_points(\n",
    "        collection_name=collection_name,\n",
    "        prefetch=[\n",
    "            models.Prefetch(\n",
    "                query=models.Document(\n",
    "                    text=query,\n",
    "                    model=vector_model_handle,\n",
    "                ),\n",
    "                using=\"jina-small\",\n",
    "                # Prefetch three times more results, then\n",
    "                # expected to return, so we can really rerank\n",
    "                limit=(3 * limit),\n",
    "            ),\n",
    "        ],\n",
    "        query=models.Document(\n",
    "            text=query,\n",
    "            model=spasrse_model_handle, \n",
    "        ),\n",
    "        using=\"bm25\",\n",
    "        limit=limit,\n",
    "        with_payload=True,\n",
    "    )\n",
    "\n",
    "    return results.points"
   ]
  },
  {
   "cell_type": "code",
   "execution_count": 6,
   "id": "5f6ff477",
   "metadata": {},
   "outputs": [
    {
     "data": {
      "text/plain": [
       "[ScoredPoint(id='cd4e3a54-4fe0-4e61-951d-f04920d40072', version=0, score=15.683756, payload={'page_title': 'Abigail', 'section_title': 'Relationships', 'text': \"Abigail is friends with Sam and Sebastian, and will dance with Sebastian at the Flower Dance if the player doesn't ask her or Sebastian to dance.\", 'content_type': 'text'}, vector=None, shard_key=None, order_value=None),\n",
       " ScoredPoint(id='abded959-5b46-4df0-bf82-f4e9d73f694e', version=19, score=15.176384, payload={'page_title': 'Abigail', 'section_title': 'Ten Hearts', 'table_html': '<table><tr><td>Details</td></tr><tr><td>Abigail is preparing to go down the ladder into the mine when she&#x27;s startled by a bat flying up into her face. She laughs it off and looks back down the hole. Hundreds more bats fly up and she&#x27;s terrified, running to cower in the corner of the cave. You rush in to comfort her. &quot;What happened?&quot; (+20 friendship .) &quot;Are you okay?&quot; (+40 friendship .) She tells you that maybe she isn&#x27;t as tough as she thought. &quot;You&#x27;re safe with me.&quot; (+20 friendship .) &quot;I get scared too.&quot; (+40 friendship .) &quot;You&#x27;re crying like a little baby. Stop.&quot; (-50 friendship .) She confesses that she likes you as more than a friend, and asks you to stay with her there. She hugs you. If your character is a girl, she will also state that she didn&#x27;t know she liked other girls until she met you.</td></tr></table>', 'summary': 'Abigail is terrified by bats in a mine; you comfort her and choose dialogue options that affect friendship (+20/+40; -50). She then confesses she likes you as more than a friend and asks you to stay; if your character is a girl, she also reveals she didn’t know she liked other girls until meeting you.', 'content_type': 'table'}, vector=None, shard_key=None, order_value=None),\n",
       " ScoredPoint(id='23d20766-dab2-43ff-9e02-25cf9d073cd9', version=0, score=14.76313, payload={'page_title': 'Abby', 'section_title': 'Relationships', 'text': \"Abigail is friends with Sam and Sebastian, and will dance with Sebastian at the Flower Dance if the player doesn't ask her or Sebastian to dance.\", 'content_type': 'text'}, vector=None, shard_key=None, order_value=None),\n",
       " ScoredPoint(id='977dca74-7c2a-4acb-be4f-32696abbb99d', version=0, score=7.0388436, payload={'page_title': 'Abigail', 'section_title': 'Quests', 'text': 'Abigail may randomly request an item at the \"Help Wanted\" board outside Pierre\\'s General Store. The reward is 3x the item\\'s base value and 150 Friendship points. Note that Abigail cannot be given this item while she is in the Mines.', 'content_type': 'text'}, vector=None, shard_key=None, order_value=None),\n",
       " ScoredPoint(id='b4921787-08ba-43ca-9f14-69014c07b4e2', version=19, score=7.0244145, payload={'page_title': 'Abigail', 'section_title': 'Questions', 'table_html': '<table><tr><td>Details</td></tr><tr><td>All Seasons, Sunday (after viewing Two-Hearts event) “ “(Name), What do you think happens to us after we die?” I have no idea. (No effect on friendship .) Abigail responds: &quot;Hmm, interesting...&quot; We come back as spooky ghosts. (+40 friendship .) Abigail responds: &quot;Well that&#x27;s an interesting theory!&quot; We go to heaven. (No effect on friendship .) Abigail responds: &quot;Hmm, interesting...&quot; Our energy bodies enter the astral plane (No effect on friendship .) Abigail responds: &quot;Hmm, interesting...&quot; Nothing. We just cease to exist. (+30 friendship .) Abigail responds: &quot;You know, that wouldn&#x27;t be so bad.&quot; Egg Festival , Year 2 “ “Do you think I&#x27;m too old to do the egg hunt?” Yes (No effect on friendship .) Abigail responds &quot;Hmmph... you sound like my Mom!&quot; No (No effect on friendship .) Abigail responds &quot;Yeah, I guess so. If I&#x27;m still having fun, why stop?&quot; Summer, Sunday “ “Okay... pretend you just won a free vacation. Where would you go?” The beach. (No effect on friendship .) Abigail responds: &quot;Huh. I think that would get old fast.&quot; In a dark cave. (+30 friendship .) Abigail responds: &quot;Yea! That sounds wonderful.&quot; The old, gnarled forest. (+30 friendship .) Abigail responds: &quot;Yea! That sounds wonderful.&quot; Joja Mega-Mall. (No effect on friendship .) Abigail responds: &quot;Huh. I think that would get old fast.&quot; Fall, Sunday “ “I was thinking about dyeing my hair again... what do you think?” Dye it black. (+10 friendship .) Abigail responds: &quot;I guess that&#x27;s a pretty safe choice, huh?&quot; Why not blonde? (+10 friendship .) Abigail responds: &quot;I guess that&#x27;s a pretty safe choice, huh?&quot; How about bubblegum pink? (+20 friendship .) Abigail responds: &quot;You&#x27;re always good for a laugh.&quot;(Laughing) I like your hair just the way it is! (No effect on friendship .) Abigail responds: &quot;Of course you&#x27;d say that.&quot;(Eyebrow raised) Winter, Sunday “ “I made these two drawings. What do you think?” I like the jungle island and the tiger. (+20 friendship .) Abigail responds: &quot;Oh yeah? I guess that makes sense.&quot; I like the orc with the battleaxe. (+30 friendship .) Abigail responds: &quot;I&#x27;m glad. It&#x27;s embarrassing to share your art with others. But I think you and I are on the same page.&quot; I don&#x27;t like either of them. (-50 friendship .) Abigail responds: &quot;Rude! Why would you hurt my feelings like that? You&#x27;re so insensitive!&quot; In addition, if you pick the tiger or orc, the next day she will say that it won 1st place in a competition.</td></tr></table>', 'summary': 'A list of season-based dialogue options with Abigail, showing the friendship impact of each choice (ranging from -50 to +40) and Abigail’s reactions; plus a note that choosing tiger or orc artwork will cause it to win 1st place the next day.', 'content_type': 'table'}, vector=None, shard_key=None, order_value=None)]"
      ]
     },
     "execution_count": 6,
     "metadata": {},
     "output_type": "execute_result"
    }
   ],
   "source": [
    "question = \"How to become friends with Abigail?\"\n",
    "\n",
    "results = multi_stage_search(client = qdClient , collection_name=collection_name, query=question)\n",
    "results"
   ]
  },
  {
   "cell_type": "code",
   "execution_count": 7,
   "id": "6b4e6e9c",
   "metadata": {},
   "outputs": [],
   "source": [
    "def rrf_search(client, collection_name, query: str, limit: int = 5) -> list[models.ScoredPoint]:\n",
    "    results = client.query_points(\n",
    "        collection_name=collection_name,\n",
    "        prefetch=[\n",
    "            models.Prefetch(\n",
    "                query=models.Document(\n",
    "                    text=query,\n",
    "                    model=vector_model_handle,\n",
    "                ),\n",
    "                using=\"jina-small\",\n",
    "                limit=(5 * limit),\n",
    "            ),\n",
    "            models.Prefetch(\n",
    "                query=models.Document(\n",
    "                    text=query,\n",
    "                    model=spasrse_model_handle,\n",
    "                ),\n",
    "                using=\"bm25\",\n",
    "                limit=(5 * limit),\n",
    "            ),\n",
    "        ],\n",
    "        # Fusion query enables fusion on the prefetched results\n",
    "        query=models.FusionQuery(fusion=models.Fusion.RRF),\n",
    "        with_payload=True,\n",
    "    )\n",
    "\n",
    "    return results.points[:limit]"
   ]
  },
  {
   "cell_type": "code",
   "execution_count": 8,
   "id": "e0aabf97",
   "metadata": {},
   "outputs": [
    {
     "data": {
      "text/plain": [
       "[ScoredPoint(id='abded959-5b46-4df0-bf82-f4e9d73f694e', version=19, score=0.7, payload={'page_title': 'Abigail', 'section_title': 'Ten Hearts', 'table_html': '<table><tr><td>Details</td></tr><tr><td>Abigail is preparing to go down the ladder into the mine when she&#x27;s startled by a bat flying up into her face. She laughs it off and looks back down the hole. Hundreds more bats fly up and she&#x27;s terrified, running to cower in the corner of the cave. You rush in to comfort her. &quot;What happened?&quot; (+20 friendship .) &quot;Are you okay?&quot; (+40 friendship .) She tells you that maybe she isn&#x27;t as tough as she thought. &quot;You&#x27;re safe with me.&quot; (+20 friendship .) &quot;I get scared too.&quot; (+40 friendship .) &quot;You&#x27;re crying like a little baby. Stop.&quot; (-50 friendship .) She confesses that she likes you as more than a friend, and asks you to stay with her there. She hugs you. If your character is a girl, she will also state that she didn&#x27;t know she liked other girls until she met you.</td></tr></table>', 'summary': 'Abigail is terrified by bats in a mine; you comfort her and choose dialogue options that affect friendship (+20/+40; -50). She then confesses she likes you as more than a friend and asks you to stay; if your character is a girl, she also reveals she didn’t know she liked other girls until meeting you.', 'content_type': 'table'}, vector=None, shard_key=None, order_value=None),\n",
       " ScoredPoint(id='cd4e3a54-4fe0-4e61-951d-f04920d40072', version=0, score=0.5833334, payload={'page_title': 'Abigail', 'section_title': 'Relationships', 'text': \"Abigail is friends with Sam and Sebastian, and will dance with Sebastian at the Flower Dance if the player doesn't ask her or Sebastian to dance.\", 'content_type': 'text'}, vector=None, shard_key=None, order_value=None),\n",
       " ScoredPoint(id='1871b895-2220-4f65-a9b7-618a7b4311bd', version=14, score=0.55263156, payload={'page_title': 'Sam', 'section_title': 'Relationships', 'text': 'Sebastian and Abigail are his bandmates and closest friends, and they often spend time together. When they are hanging out at The Stardrop Saloon, Sebastian is always seen beating Sam at pool, while Abigail watches from the couch. He is also friends with Penny, and will dance with her at the Flower Dance if neither of them is dancing with the player.', 'content_type': 'text'}, vector=None, shard_key=None, order_value=None),\n",
       " ScoredPoint(id='b4921787-08ba-43ca-9f14-69014c07b4e2', version=19, score=0.33333334, payload={'page_title': 'Abigail', 'section_title': 'Questions', 'table_html': '<table><tr><td>Details</td></tr><tr><td>All Seasons, Sunday (after viewing Two-Hearts event) “ “(Name), What do you think happens to us after we die?” I have no idea. (No effect on friendship .) Abigail responds: &quot;Hmm, interesting...&quot; We come back as spooky ghosts. (+40 friendship .) Abigail responds: &quot;Well that&#x27;s an interesting theory!&quot; We go to heaven. (No effect on friendship .) Abigail responds: &quot;Hmm, interesting...&quot; Our energy bodies enter the astral plane (No effect on friendship .) Abigail responds: &quot;Hmm, interesting...&quot; Nothing. We just cease to exist. (+30 friendship .) Abigail responds: &quot;You know, that wouldn&#x27;t be so bad.&quot; Egg Festival , Year 2 “ “Do you think I&#x27;m too old to do the egg hunt?” Yes (No effect on friendship .) Abigail responds &quot;Hmmph... you sound like my Mom!&quot; No (No effect on friendship .) Abigail responds &quot;Yeah, I guess so. If I&#x27;m still having fun, why stop?&quot; Summer, Sunday “ “Okay... pretend you just won a free vacation. Where would you go?” The beach. (No effect on friendship .) Abigail responds: &quot;Huh. I think that would get old fast.&quot; In a dark cave. (+30 friendship .) Abigail responds: &quot;Yea! That sounds wonderful.&quot; The old, gnarled forest. (+30 friendship .) Abigail responds: &quot;Yea! That sounds wonderful.&quot; Joja Mega-Mall. (No effect on friendship .) Abigail responds: &quot;Huh. I think that would get old fast.&quot; Fall, Sunday “ “I was thinking about dyeing my hair again... what do you think?” Dye it black. (+10 friendship .) Abigail responds: &quot;I guess that&#x27;s a pretty safe choice, huh?&quot; Why not blonde? (+10 friendship .) Abigail responds: &quot;I guess that&#x27;s a pretty safe choice, huh?&quot; How about bubblegum pink? (+20 friendship .) Abigail responds: &quot;You&#x27;re always good for a laugh.&quot;(Laughing) I like your hair just the way it is! (No effect on friendship .) Abigail responds: &quot;Of course you&#x27;d say that.&quot;(Eyebrow raised) Winter, Sunday “ “I made these two drawings. What do you think?” I like the jungle island and the tiger. (+20 friendship .) Abigail responds: &quot;Oh yeah? I guess that makes sense.&quot; I like the orc with the battleaxe. (+30 friendship .) Abigail responds: &quot;I&#x27;m glad. It&#x27;s embarrassing to share your art with others. But I think you and I are on the same page.&quot; I don&#x27;t like either of them. (-50 friendship .) Abigail responds: &quot;Rude! Why would you hurt my feelings like that? You&#x27;re so insensitive!&quot; In addition, if you pick the tiger or orc, the next day she will say that it won 1st place in a competition.</td></tr></table>', 'summary': 'A list of season-based dialogue options with Abigail, showing the friendship impact of each choice (ranging from -50 to +40) and Abigail’s reactions; plus a note that choosing tiger or orc artwork will cause it to win 1st place the next day.', 'content_type': 'table'}, vector=None, shard_key=None, order_value=None),\n",
       " ScoredPoint(id='23d20766-dab2-43ff-9e02-25cf9d073cd9', version=0, score=0.27142859, payload={'page_title': 'Abby', 'section_title': 'Relationships', 'text': \"Abigail is friends with Sam and Sebastian, and will dance with Sebastian at the Flower Dance if the player doesn't ask her or Sebastian to dance.\", 'content_type': 'text'}, vector=None, shard_key=None, order_value=None)]"
      ]
     },
     "execution_count": 8,
     "metadata": {},
     "output_type": "execute_result"
    }
   ],
   "source": [
    "results = rrf_search(client=qdClient,collection_name=collection_name, query=question)\n",
    "results"
   ]
  },
  {
   "cell_type": "code",
   "execution_count": 9,
   "id": "23db1cdb",
   "metadata": {},
   "outputs": [
    {
     "data": {
      "text/plain": [
       "{'page_title': 'Abigail',\n",
       " 'section_title': 'Ten Hearts',\n",
       " 'table_html': '<table><tr><td>Details</td></tr><tr><td>Abigail is preparing to go down the ladder into the mine when she&#x27;s startled by a bat flying up into her face. She laughs it off and looks back down the hole. Hundreds more bats fly up and she&#x27;s terrified, running to cower in the corner of the cave. You rush in to comfort her. &quot;What happened?&quot; (+20 friendship .) &quot;Are you okay?&quot; (+40 friendship .) She tells you that maybe she isn&#x27;t as tough as she thought. &quot;You&#x27;re safe with me.&quot; (+20 friendship .) &quot;I get scared too.&quot; (+40 friendship .) &quot;You&#x27;re crying like a little baby. Stop.&quot; (-50 friendship .) She confesses that she likes you as more than a friend, and asks you to stay with her there. She hugs you. If your character is a girl, she will also state that she didn&#x27;t know she liked other girls until she met you.</td></tr></table>',\n",
       " 'summary': 'Abigail is terrified by bats in a mine; you comfort her and choose dialogue options that affect friendship (+20/+40; -50). She then confesses she likes you as more than a friend and asks you to stay; if your character is a girl, she also reveals she didn’t know she liked other girls until meeting you.',\n",
       " 'content_type': 'table'}"
      ]
     },
     "execution_count": 9,
     "metadata": {},
     "output_type": "execute_result"
    }
   ],
   "source": [
    "results[0].payload"
   ]
  },
  {
   "cell_type": "code",
   "execution_count": null,
   "id": "5d210184",
   "metadata": {},
   "outputs": [],
   "source": []
  }
 ],
 "metadata": {
  "kernelspec": {
   "display_name": "Python 3",
   "language": "python",
   "name": "python3"
  },
  "language_info": {
   "codemirror_mode": {
    "name": "ipython",
    "version": 3
   },
   "file_extension": ".py",
   "mimetype": "text/x-python",
   "name": "python",
   "nbconvert_exporter": "python",
   "pygments_lexer": "ipython3",
   "version": "3.11.9"
  }
 },
 "nbformat": 4,
 "nbformat_minor": 5
}
